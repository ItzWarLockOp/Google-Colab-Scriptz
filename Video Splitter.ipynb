{
  "cells": [
    {
      "cell_type": "markdown",
      "metadata": {
        "id": "view-in-github",
        "colab_type": "text"
      },
      "source": [
        "<a href=\"https://colab.research.google.com/github/ItzWarLockOp/Google-Colab-Scriptz/blob/main/Video%20Splitter.ipynb\" target=\"_parent\"><img src=\"https://colab.research.google.com/assets/colab-badge.svg\" alt=\"Open In Colab\"/></a>"
      ]
    },
    {
      "cell_type": "markdown",
      "source": [
        "<center><img src=\"https://raw.githubusercontent.com/ItzWarLockOp/Google-Colab-Scriptz/main/png/IMG_20230531_131001.png\" height=\"80\" </center>"
      ],
      "metadata": {
        "id": "VGghu5HqtFSj"
      }
    },
    {
      "cell_type": "markdown",
      "source": [
        "#<h3><Center><b><font color='sky blue'>Mount Google Drive <img src=\"https://kstatic.googleusercontent.com/files/e20dbc1db7b6eab22fb2d07df8043f8a74b301dbb8c176e6a1992b2dc229c5ae94b5c260cf549c41712fa40b7e639166c6a8461303a27c2a3b9c55b8ca155ec3\" class=\"icon\" alt=\"Icon\" height=\"15\">\n",
        "<h3><b><center>+\n",
        "<h3><b><font color='lime'>Install <img src=\"https://upload.wikimedia.org/wikipedia/commons/thumb/4/4b/FFmpeg-Logo.svg/1280px-FFmpeg-Logo.svg.png\" class=\"icon\" alt=\"Icon\" height=\"15\">"
      ],
      "metadata": {
        "id": "Fpzlsvp2pewV"
      }
    },
    {
      "cell_type": "code",
      "source": [
        "#@title <b>↓↓ Run This Cell🏃\n",
        "import subprocess\n",
        "import os\n",
        "from google.colab import drive\n",
        "\n",
        "# Mount Google Drive if not already mounted\n",
        "if not os.path.exists('/content/drive/MyDrive'):\n",
        "    drive.mount('/content/drive')\n",
        "    print('Drive Mounted Successfully!🎉')\n",
        "else:\n",
        "    print('Drive Already Mounted 🙂')\n",
        "\n",
        "# Install FFmpeg if not already installed\n",
        "try:\n",
        "    subprocess.check_output(['ffmpeg', '-version'], stderr=subprocess.STDOUT)\n",
        "    print('FFmpeg Already Installed 🙂')\n",
        "except subprocess.CalledProcessError:\n",
        "    subprocess.call(['apt', 'install', 'ffmpeg', '-qq'], stdout=open(os.devnull, 'w'))\n",
        "    print('FFmpeg Installed Successfully!🎉')\n",
        "\n",
        "# Rest of your code..."
      ],
      "metadata": {
        "id": "uBel2v8gi3ED",
        "cellView": "form"
      },
      "execution_count": null,
      "outputs": []
    },
    {
      "cell_type": "markdown",
      "source": [
        "#<center> </font> <h3><b> <font color='yellow'> 🖥️ Enter  input and ouput Path\n",
        "<h3> <b>+\n",
        "\n",
        "#<center> </font> <h3><b> <font color='yellow'>File Name and Duration ⏱️  </center>"
      ],
      "metadata": {
        "id": "bviAcdvxpd8K"
      }
    },
    {
      "cell_type": "code",
      "source": [
        "\n",
        "import subprocess\n",
        "import os\n",
        "\n",
        "input_video = '/content/drive/MyDrive/TheGdriveXbot/The Kerala Story (2023).mkv' #@param {type:\"string\"}\n",
        "output_dir = '/content/drive/MyDrive/TheGdriveXbot/Split'#@param {type:\"string\"}\n",
        "output_filename = 'Video' #@param {type:\"string\"} \n",
        "enable_duration = False #@param {type:\"boolean\"}\n",
        "duration = '00:30:00' #@param {type:\"string\"} \n",
        "\n",
        "# Get the file extension from the input video\n",
        "extension = os.path.splitext(input_video)[1]\n",
        "\n",
        "# Create output filenames for part 1 and part 2 with the same extension as the input video\n",
        "output_video1 = os.path.join(output_dir, f'{output_filename} part 1{extension}')\n",
        "output_video2 = os.path.join(output_dir, f'{output_filename} part 2{extension}')\n",
        "\n",
        "if enable_duration:\n",
        "    # Calculate the duration in seconds\n",
        "    duration_parts = duration.split(':')\n",
        "    hours, minutes, seconds = map(int, duration_parts)\n",
        "    total_duration_seconds = hours * 3600 + minutes * 60 + seconds\n",
        "\n",
        "    # Get the duration of the input video\n",
        "    ffprobe_cmd = f'ffprobe -v error -select_streams v:0 -show_entries format=duration -of default=noprint_wrappers=1:nokey=1 \"{input_video}\"'\n",
        "    duration_output = subprocess.check_output(ffprobe_cmd, shell=True, text=True).strip()\n",
        "    duration_seconds = float(duration_output)\n",
        "\n",
        "    # Calculate the end time for the first part\n",
        "    end_time = min(total_duration_seconds, duration_seconds)\n",
        "\n",
        "else:\n",
        "    # Get the duration of the input video\n",
        "    ffprobe_cmd = f'ffprobe -v error -select_streams v:0 -show_entries format=duration -of default=noprint_wrappers=1:nokey=1 \"{input_video}\"'\n",
        "    duration_output = subprocess.check_output(ffprobe_cmd, shell=True, text=True).strip()\n",
        "    duration_seconds = float(duration_output)\n",
        "\n",
        "    # Calculate the end time for the first part\n",
        "    end_time = duration_seconds / 2\n",
        "\n",
        "# Construct FFmpeg command for the first split\n",
        "command1 = f'ffmpeg -i \"{input_video}\" -t {end_time} -c:v copy -c:a copy \"{output_video1}\"'\n",
        "\n",
        "print(\"Splitting Video (Part 1)⏳\")\n",
        "# Execute the first split command and print the output\n",
        "process1 = subprocess.Popen(command1, shell=True)\n",
        "process1.communicate()\n",
        "\n",
        "# Construct FFmpeg command for the second split\n",
        "command2 = f'ffmpeg -ss {end_time} -i \"{input_video}\" -c:v copy -c:a copy \"{output_video2}\"'\n",
        "\n",
        "print(\"Splitting Video (Part 2)⏳\")\n",
        "# Execute the second split command and print the output\n",
        "process2 = subprocess.Popen(command2, shell=True)\n",
        "process2.communicate()\n",
        "\n",
        "print(\"Videos Splited Successfully!🎉\")"
      ],
      "metadata": {
        "id": "3SdYiu-HirVM",
        "cellView": "form"
      },
      "execution_count": null,
      "outputs": []
    }
  ],
  "metadata": {
    "colab": {
      "provenance": [],
      "collapsed_sections": [
        "Fpzlsvp2pewV",
        "bviAcdvxpd8K"
      ],
      "include_colab_link": true
    },
    "kernelspec": {
      "display_name": "Python 3",
      "name": "python3"
    }
  },
  "nbformat": 4,
  "nbformat_minor": 0
}