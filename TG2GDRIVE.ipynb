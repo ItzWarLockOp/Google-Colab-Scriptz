{
  "cells": [
    {
      "cell_type": "markdown",
      "metadata": {
        "id": "view-in-github",
        "colab_type": "text"
      },
      "source": [
        "<a href=\"https://colab.research.google.com/github/ItzWarLockOp/Google-Colab-Scriptz/blob/main/TG2GDRIVE.ipynb\" target=\"_parent\"><img src=\"https://colab.research.google.com/assets/colab-badge.svg\" alt=\"Open In Colab\"/></a>"
      ]
    },
    {
      "cell_type": "markdown",
      "source": [
        "<div style=\"display: flex; justify-content: center;\">\n",
        "  <img src='https://raw.githubusercontent.com/ItzWarLockOp/Google-Colab-Scriptz/main/png/IMG_20230811_192751.png' height=\"130\" alt=\"TG2Drive\"/>\n",
        "</div>"
      ],
      "metadata": {
        "id": "Qq9vxZruztbD"
      }
    },
    {
      "cell_type": "code",
      "source": [
        "#@title <center> <b><h2><font color='black'> ★ Install Dependencies ★ </b></h5></center>\n",
        "import subprocess\n",
        "from IPython.display import clear_output\n",
        "import time\n",
        "from google.colab import drive\n",
        "\n",
        "def animate_characters(text, interval, num_cycles):\n",
        "    characters = [\"◉-◎\", \"◎-◉\"]\n",
        "    for _ in range(num_cycles):\n",
        "        for char in characters:\n",
        "            clear_output(wait=True)\n",
        "            print(text + \" \" + char, end=\"\")\n",
        "            time.sleep(interval)\n",
        "\n",
        "try:\n",
        "    print(\"Installing Dependencies...\")\n",
        "    animate_characters(text=\"Installing Dependencies\", interval=0.5, num_cycles=9)  # Adjust the parameters here\n",
        "    drive.mount('/content/drive')\n",
        "\n",
        "    print(\"Installing Dependencies...\")\n",
        "    animate_characters(text=\"Installing Dependencies\", interval=0.5, num_cycles=9)\n",
        "    subprocess.check_call([\"pip\", \"install\", \"Pyrogram\", \"tgcrypto\"])\n",
        "\n",
        "    clear_output(wait=True)\n",
        "    print(\"Dependencies Installed Successfully🎉\")\n",
        "except subprocess.CalledProcessError as e:\n",
        "    clear_output(wait=True)\n",
        "    print(\"Dependencies Installation Failed\", e)\n",
        "except RuntimeError as re:\n",
        "    if \"mountpoint is already mounted\" not in str(re):\n",
        "        clear_output(wait=True)\n",
        "        print(\"Drive Mounting Failed:\", re)"
      ],
      "metadata": {
        "cellView": "form",
        "id": "A5U13ScsoFZ1"
      },
      "execution_count": null,
      "outputs": []
    },
    {
      "cell_type": "markdown",
      "source": [
        "# <center> <b><h3><font color='black'> ★ D O W N L A O D E R ★ </b></h5></center>"
      ],
      "metadata": {
        "id": "eSXJnTcYc82f"
      }
    },
    {
      "cell_type": "code",
      "source": [
        "import os\n",
        "import nest_asyncio\n",
        "import asyncio\n",
        "from pyrogram import Client\n",
        "from pyrogram.errors import MessageNotModified\n",
        "\n",
        "# Custom progress function with file name, total size, and progress\n",
        "def progress_with_name_size(current, total, file_name, file_size):\n",
        "    percent_complete = (current * 100) // total\n",
        "    bar_length = 10  # Length of the progress bar\n",
        "    progress_bar = \"[\" + \"■\" * (percent_complete * bar_length // 100) + \\\n",
        "                   \"□\" * ((100 - percent_complete) * bar_length // 100) + \"]\"\n",
        "\n",
        "    # Print progress percentage and progress bar\n",
        "    print(f\"\\rProgress: {percent_complete}% {progress_bar}\", end=\" \", flush=True)\n",
        "\n",
        "# Function to format file size\n",
        "def format_size(size):\n",
        "    size_units = ['B', 'KB', 'MB', 'GB', 'TB']\n",
        "    size_unit_index = 0\n",
        "    while size > 1024 and size_unit_index < len(size_units) - 1:\n",
        "        size /= 1024\n",
        "        size_unit_index += 1\n",
        "    return f\"{size:.2f} {size_units[size_unit_index]}\"\n",
        "\n",
        "# Function to download a media file from a Telegram message with original name, extension, size, and optional custom file name\n",
        "async def download_telegram_media_with_custom_name(client, url, channel_username, save_path, custom_file_name=None):\n",
        "    try:\n",
        "        # Extract the message ID from the URL\n",
        "        message_id = int(url.split(\"/\")[-1])\n",
        "\n",
        "        # Get the message\n",
        "        message = await client.get_messages(channel_username, message_ids=message_id)\n",
        "\n",
        "        # Determine the file name and size\n",
        "        file_name = None\n",
        "        file_size = None\n",
        "        if message.document:\n",
        "            file_name = message.document.file_name\n",
        "            file_size = message.document.file_size\n",
        "        elif message.video:\n",
        "            file_name = f\"{message.video.file_id}.mp4\"\n",
        "            file_size = message.video.file_size\n",
        "        elif message.photo:\n",
        "            largest_photo = message.photo[-1]\n",
        "            default_extension = '.jpg'\n",
        "            custom_extension = '.jpeg' if custom_file_name and custom_file_name.lower().endswith('.jpeg') else default_extension\n",
        "            file_name = f\"{largest_photo.file_id}{custom_extension}\"\n",
        "            file_size = largest_photo.file_size\n",
        "        elif message.animation:\n",
        "            file_name = f\"{message.animation.file_id}.gif\"\n",
        "            file_size = message.animation.file_size\n",
        "        elif message.audio:\n",
        "            file_name = f\"{message.audio.title}.mp3\"\n",
        "            file_size = message.audio.file_size\n",
        "        else:\n",
        "            # Neither document nor media\n",
        "            print(\"The message does not contain a document, media, or audio.\")\n",
        "            return\n",
        "\n",
        "        # Display file name and total size once\n",
        "        if custom_file_name:\n",
        "            print(f\"Name: {file_name}\")\n",
        "            print(f\"New Name: {custom_file_name}\")\n",
        "            print(\"\")\n",
        "        else:\n",
        "            print(f\"Name: {file_name}\")\n",
        "            print(\"\")\n",
        "        formatted_total_size = format_size(file_size)\n",
        "        print(f\"Total Size: {formatted_total_size}\")\n",
        "        print(\"\")\n",
        "        # Download the media file with original name, extension, and size\n",
        "        file_path = os.path.join(save_path, custom_file_name or file_name)\n",
        "        await message.download(file_name=file_path, progress=lambda c, t: progress_with_name_size(c, t, custom_file_name or file_name, file_size))\n",
        "        print(\"\")\n",
        "        print(\"\\nFile downloaded successfully🎉\")\n",
        "\n",
        "    except MessageNotModified:\n",
        "        print(\"The message was not modified, it might have been deleted.\")\n",
        "    except Exception as e:\n",
        "        print(f\"An error occurred: {e}\")\n",
        "\n",
        "\n",
        "#@markdown ----\n",
        "#@markdown <center> <b><h5><font color='DarkTurquoise'> ★ ENTER TELEGRAM CREDENTIALS ★ </b></h5></center>\n",
        "\n",
        "# Main function to input parameters and path\n",
        "async def main():\n",
        "    API_ID = \"\" #@param {type:\"string\"}\n",
        "    API_HASH = \"\" #@param {type:\"string\"}\n",
        "    BotToken = \"\" #@param {type:\"string\"}\n",
        "    ChannelUsername = \"without (@)\"  #@param {type:\"string\"}\n",
        "\n",
        "    #@markdown ----\n",
        "    #@markdown <center> <b><h5><font color='Goldenrod'> ★ ENTER URL AND DESTINATION ★ </b></h5></center>\n",
        "\n",
        "    url = \"https://t.me/YourFileLink\" #@param {type:\"string\"}\n",
        "    SavePath = \"/content/\"  #@param {type:\"string\"}\n",
        "    os.makedirs(SavePath, exist_ok=True)\n",
        "\n",
        "    #@markdown ------\n",
        "\n",
        "    EnableCustomName = False  #@param {type:\"boolean\"}\n",
        "    CustomFileName = \"Name+Extension\"  #@param {type:\"string\"}\n",
        "\n",
        "    # Determine the custom file name or use default file name\n",
        "    custom_file_name = CustomFileName if EnableCustomName else None\n",
        "\n",
        "    async with Client(\"my_account\", api_id=API_ID, api_hash=API_HASH, bot_token=BotToken) as app:\n",
        "        await download_telegram_media_with_custom_name(app, url, ChannelUsername, SavePath, custom_file_name)\n",
        "\n",
        "# Allow nested asyncio calls in a Jupyter-like environment\n",
        "nest_asyncio.apply()\n",
        "\n",
        "# Run the main function\n",
        "asyncio.get_event_loop().run_until_complete(main())"
      ],
      "metadata": {
        "cellView": "form",
        "id": "_NRZbHXS27i2"
      },
      "execution_count": null,
      "outputs": []
    }
  ],
  "metadata": {
    "colab": {
      "provenance": [],
      "collapsed_sections": [
        "eSXJnTcYc82f"
      ],
      "include_colab_link": true
    },
    "kernelspec": {
      "display_name": "Python 3",
      "name": "python3"
    },
    "language_info": {
      "name": "python"
    }
  },
  "nbformat": 4,
  "nbformat_minor": 0
}