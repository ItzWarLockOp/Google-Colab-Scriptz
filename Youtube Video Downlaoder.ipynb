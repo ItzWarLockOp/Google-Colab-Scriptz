{
  "cells": [
    {
      "cell_type": "markdown",
      "metadata": {
        "id": "view-in-github",
        "colab_type": "text"
      },
      "source": [
        "<a href=\"https://colab.research.google.com/github/ItzWarLockOp/Google-Colab-Scriptz/blob/main/Youtube%20Video%20Downlaoder.ipynb\" target=\"_parent\"><img src=\"https://colab.research.google.com/assets/colab-badge.svg\" alt=\"Open In Colab\"/></a>"
      ]
    },
    {
      "cell_type": "markdown",
      "source": [
        "## <img src='https://raw.githubusercontent.com/yt-dlp/yt-dlp/master/.github/banner.svg' height=\"83\" alt=\"Youtube-DL\"/>"
      ],
      "metadata": {
        "id": "yFcn5CHT-Xak"
      }
    },
    {
      "cell_type": "code",
      "source": [
        "#@title <b> Mount Gdrive and Install YT-dlp 📲\n",
        "import os\n",
        "from google.colab import drive\n",
        "\n",
        "# Mount Google Drive if not already mounted\n",
        "if not os.path.exists('/content/drive/MyDrive'):\n",
        "    drive.mount('/content/drive')\n",
        "    print('Drive Mounted Successfully!')\n",
        "else:\n",
        "    print('Drive Already Mounted')\n",
        "\n",
        "!pip install yt-dlp -qq\n",
        "print('YT-dlp Installed Successfully!')"
      ],
      "metadata": {
        "cellView": "form",
        "id": "tq_WfDUtt6ur"
      },
      "execution_count": null,
      "outputs": []
    },
    {
      "cell_type": "code",
      "source": [
        "#@title <b> Enter Path, Url and Quality 📡\n",
        "\n",
        "\n",
        "import yt_dlp\n",
        "import os\n",
        "\n",
        "# Set the download directory to your Google Drive\n",
        "save_path = '/content/drive/MyDrive/Youtube Videos' #@param {type:\"string\"}\n",
        "\n",
        "# Create the download directory if it doesn't exist\n",
        "if not os.path.exists(save_path):\n",
        "    os.makedirs(save_path)\n",
        "\n",
        "# Define a function to download a video\n",
        "def download_video(youtube_url, quality):\n",
        "    ydl_opts = {\n",
        "        'outtmpl': save_path + '/%(title)s.%(ext)s',\n",
        "        'format': f'bestvideo[height<={quality}][ext=mp4]+bestaudio[ext=m4a]/mp4',\n",
        "    }\n",
        "    with yt_dlp.YoutubeDL(ydl_opts) as ydl:\n",
        "        ydl.download([youtube_url])\n",
        "    print(\"Download completed!\")\n",
        "\n",
        "# Example usage: download a video and save it to your Google Drive\n",
        "youtube_url = 'https://www.youtube.com/watch?v=dQw4w9WgXcQ' #@param {type:\"string\"}\n",
        "quality = \"2160\" #@param [\"2160\",\"1440\",\"1080\",\"720\",\"480\",\"360\",\"240\",\"144\"]\n",
        "download_video(youtube_url, quality)"
      ],
      "metadata": {
        "cellView": "form",
        "id": "f7DLNwY7uBa-"
      },
      "execution_count": null,
      "outputs": []
    }
  ],
  "metadata": {
    "colab": {
      "provenance": [],
      "include_colab_link": true
    },
    "kernelspec": {
      "display_name": "Python 3",
      "name": "python3"
    }
  },
  "nbformat": 4,
  "nbformat_minor": 0
}