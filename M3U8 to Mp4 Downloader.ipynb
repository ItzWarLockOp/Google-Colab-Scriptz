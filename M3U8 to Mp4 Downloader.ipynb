{
  "nbformat": 4,
  "nbformat_minor": 0,
  "metadata": {
    "colab": {
      "name": "m3u8 downloader.ipynb",
      "provenance": [],
      "include_colab_link": true
    },
    "kernelspec": {
      "name": "python3",
      "display_name": "Python 3"
    },
    "language_info": {
      "name": "python"
    }
  },
  "cells": [
    {
      "cell_type": "markdown",
      "metadata": {
        "id": "view-in-github",
        "colab_type": "text"
      },
      "source": [
        "<a href=\"https://colab.research.google.com/github/ItzWarLockOp/Google-Colab-Scriptz/blob/main/M3U8%20to%20Mp4%20Downloader.ipynb\" target=\"_parent\"><img src=\"https://colab.research.google.com/assets/colab-badge.svg\" alt=\"Open In Colab\"/></a>"
      ]
    },
    {
      "cell_type": "markdown",
      "metadata": {
        "id": "MoLddhWRxwdv"
      },
      "source": [
        "<img src=\"https://www.file-extension.info/images/resource/formats/m3u8.png\" height=80px, align=\"left\"></a>\n",
        "\n",
        "\n",
        "\n",
        "<center><h1><b>M3u8 to Mp4 Downloader </h1></b></center>"
      ]
    },
    {
      "cell_type": "markdown",
      "source": [
        "#<b> <center><img src=\"https://kstatic.googleusercontent.com/files/e20dbc1db7b6eab22fb2d07df8043f8a74b301dbb8c176e6a1992b2dc229c5ae94b5c260cf549c41712fa40b7e639166c6a8461303a27c2a3b9c55b8ca155ec3\" class=\"icon\" alt=\"Icon\"> Mount Google Drive \n",
        "#<b><center>+ \n",
        "\n",
        "#<b><center>Install Required Libraries 📲"
      ],
      "metadata": {
        "id": "4Cn9fmE4F1wh"
      }
    },
    {
      "cell_type": "code",
      "metadata": {
        "cellView": "form",
        "id": "H0qP3yiDrMD8"
      },
      "source": [
        "#@title <b> ↓↓ Run this Cell\n",
        "\n",
        "from google.colab import drive\n",
        "drive.mount('/content/drive')\n",
        "!sudo apt install -y ffmpeg > /dev/null 2>&1\n",
        "!pip install --user m3u8downloader > /dev/null \n",
        "\n",
        "print(\"Required Libraries Installed Sucessfully!\")"
      ],
      "execution_count": null,
      "outputs": []
    },
    {
      "cell_type": "markdown",
      "source": [
        "#<b>📲Enter M3U8 Link & Gdrive Path📁"
      ],
      "metadata": {
        "id": "g4O2NpjuPbpI"
      }
    },
    {
      "cell_type": "code",
      "metadata": {
        "id": "9t3VWUOoDZ1I",
        "cellView": "form"
      },
      "source": [
        "import os\n",
        "M3u8_link = \"https://example.m3u8\" #@param {type:\"string\"}\n",
        "Download_location = \"/content/drive/MyDrive/myvideo.mp4\" #@param {type:\"string\"}\n",
        "!~/.local/bin/downloadm3u8 -o \"$Download_location\" \"$M3u8_link\""
      ],
      "execution_count": null,
      "outputs": []
    }
  ]
}