{
  "nbformat": 4,
  "nbformat_minor": 0,
  "metadata": {
    "colab": {
      "provenance": [],
      "collapsed_sections": [
        "mF0PsnpK3Lvv",
        "jStsNnlZ4FvV"
      ],
      "include_colab_link": true
    },
    "kernelspec": {
      "name": "python3",
      "display_name": "Python 3"
    },
    "language_info": {
      "name": "python"
    }
  },
  "cells": [
    {
      "cell_type": "markdown",
      "metadata": {
        "id": "view-in-github",
        "colab_type": "text"
      },
      "source": [
        "<a href=\"https://colab.research.google.com/github/ItzWarLockOp/Google-Colab-Scriptz/blob/main/Zip/Unzip.ipynb\" target=\"_parent\"><img src=\"https://colab.research.google.com/assets/colab-badge.svg\" alt=\"Open In Colab\"/></a>"
      ]
    },
    {
      "cell_type": "markdown",
      "source": [
        "<img src=\"https://ubiq.co/tech-blog/wp-content/uploads/2020/08/install-zip-unzip-627x410.png\" height=70px, align=\"left\"></a>\n",
        "\n",
        "\n",
        "\n",
        "<h1><b> Zip / Unzip </h1></b>"
      ],
      "metadata": {
        "id": "JRj1sVDR1bUh"
      }
    },
    {
      "cell_type": "code",
      "source": [
        "#@title <Center><b> Mount Google Drive <img src=\"https://kstatic.googleusercontent.com/files/e20dbc1db7b6eab22fb2d07df8043f8a74b301dbb8c176e6a1992b2dc229c5ae94b5c260cf549c41712fa40b7e639166c6a8461303a27c2a3b9c55b8ca155ec3\" class=\"icon\" alt=\"Icon\"> </Center>\n",
        "from google.colab import drive\n",
        "drive.mount('/content/drive')"
      ],
      "metadata": {
        "id": "bvTlNcrza-f0",
        "cellView": "form"
      },
      "execution_count": null,
      "outputs": []
    },
    {
      "cell_type": "markdown",
      "source": [
        "#<b> Zip Gdrive Folder 📁"
      ],
      "metadata": {
        "id": "mF0PsnpK3Lvv"
      }
    },
    {
      "cell_type": "code",
      "source": [
        "\n",
        "import zipfile\n",
        "import os\n",
        "from tqdm.auto import tqdm\n",
        "from IPython.display import clear_output\n",
        "\n",
        "INPUT_PATH = '/content/drive/MyDrive/X' #@param {type:\"string\"}\n",
        "OUTPUT_FOLDER = '/content/drive/MyDrive/X' #@param {type:\"string\"}\n",
        "OUTPUT_FILENAME = f\"{os.path.basename(INPUT_PATH)}.zip\"\n",
        "OUTPUT_PATH = os.path.join(OUTPUT_FOLDER, OUTPUT_FILENAME)\n",
        "\n",
        "def get_file_size(path):\n",
        "    return os.path.getsize(path)\n",
        "\n",
        "def get_folder_size(path):\n",
        "    total_size = 0\n",
        "    for root, dirs, files in os.walk(path):\n",
        "        for file in files:\n",
        "            file_path = os.path.join(root, file)\n",
        "            total_size += os.path.getsize(file_path)\n",
        "    return total_size\n",
        "\n",
        "def zipdir(path, ziph):\n",
        "    if os.path.isfile(path):\n",
        "        file_size = get_file_size(path)\n",
        "        ziph.write(path, arcname=os.path.basename(path))\n",
        "        pbar = tqdm(total=file_size, desc=\"Zipping file\", unit=\"bytes\", leave=False)\n",
        "        pbar.update(file_size)\n",
        "        pbar.close()\n",
        "    else:\n",
        "        total_size = get_folder_size(path)\n",
        "        pbar = tqdm(total=total_size, desc=\"Zipping files\", unit=\"bytes\", leave=False)\n",
        "        for root, dirs, files in os.walk(path):\n",
        "            for file in files:\n",
        "                file_path = os.path.join(root, file)\n",
        "                ziph.write(file_path, arcname=os.path.relpath(file_path, path))\n",
        "                pbar.update(os.path.getsize(file_path))\n",
        "        pbar.close()\n",
        "\n",
        "# Calculate size before zipping\n",
        "if os.path.isfile(INPUT_PATH):\n",
        "    size = get_file_size(INPUT_PATH)\n",
        "else:\n",
        "    size = get_folder_size(INPUT_PATH)\n",
        "size_mb = size / (1024 * 1024)\n",
        "print(f\"Size: {size_mb:.2f} MB\")\n",
        "\n",
        "zipf = zipfile.ZipFile(OUTPUT_PATH, 'w', zipfile.ZIP_DEFLATED)\n",
        "\n",
        "zipdir(INPUT_PATH, zipf)\n",
        "\n",
        "zipf.close()\n",
        "\n",
        "# Clear the output\n",
        "clear_output()\n",
        "\n",
        "print(\"Zipping completed!\")"
      ],
      "metadata": {
        "cellView": "form",
        "id": "IA3iOBW8rj0o"
      },
      "execution_count": null,
      "outputs": []
    },
    {
      "cell_type": "markdown",
      "source": [
        "#<b> UnArchive Zip File 📂"
      ],
      "metadata": {
        "id": "jStsNnlZ4FvV"
      }
    },
    {
      "cell_type": "code",
      "source": [
        "\n",
        "import zipfile\n",
        "import os\n",
        "from tqdm.auto import tqdm\n",
        "\n",
        "INPUT_ZIP = '/content/drive/MyDrive/X.zip' #@param {type:\"string\"}\n",
        "OUTPUT_FOLDER = '/content/drive/MyDrive/X' #@param {type:\"string\"}\n",
        "\n",
        "def unzipdir(zip_path, output_path):\n",
        "    with zipfile.ZipFile(zip_path, 'r') as zip_ref:\n",
        "        zip_name = os.path.splitext(os.path.basename(zip_path))[0]\n",
        "        output_path = os.path.join(output_path, zip_name)\n",
        "        os.makedirs(output_path, exist_ok=True)\n",
        "        for member in tqdm(zip_ref.infolist(), desc=\"Extracting files\", unit=\"files\", leave=False):\n",
        "            try:\n",
        "                zip_ref.extract(member, output_path)\n",
        "            except zipfile.error as e:\n",
        "                pass\n",
        "    print(\"Extraction completed successfully.\")\n",
        "\n",
        "unzipdir(INPUT_ZIP, OUTPUT_FOLDER)"
      ],
      "metadata": {
        "id": "VU_awbT_xW1k",
        "cellView": "form"
      },
      "execution_count": null,
      "outputs": []
    }
  ]
}