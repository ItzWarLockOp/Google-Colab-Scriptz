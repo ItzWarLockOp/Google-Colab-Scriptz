{
  "nbformat": 4,
  "nbformat_minor": 0,
  "metadata": {
    "colab": {
      "provenance": [],
      "include_colab_link": true
    },
    "kernelspec": {
      "name": "python3",
      "display_name": "Python 3"
    },
    "language_info": {
      "name": "python"
    }
  },
  "cells": [
    {
      "cell_type": "markdown",
      "metadata": {
        "id": "view-in-github",
        "colab_type": "text"
      },
      "source": [
        "<a href=\"https://colab.research.google.com/github/ItzWarLockOp/Google-Colab-Scriptz/blob/main/M3U8%20and%20HLS%20Downloader%20v2.ipynb\" target=\"_parent\"><img src=\"https://colab.research.google.com/assets/colab-badge.svg\" alt=\"Open In Colab\"/></a>"
      ]
    },
    {
      "cell_type": "markdown",
      "metadata": {
        "id": "MoLddhWRxwdv"
      },
      "source": [
        "<img src=\"https://raw.githubusercontent.com/ItzWarLockOp/Google-Colab-Scriptz/main/png/IMG_20230514_210808.png\" height=80px, align=\"left\"></a>"
      ]
    },
    {
      "cell_type": "code",
      "metadata": {
        "cellView": "form",
        "id": "H0qP3yiDrMD8"
      },
      "source": [
        "#@title <Center><b> Mount Google Drive <img src=\"https://kstatic.googleusercontent.com/files/e20dbc1db7b6eab22fb2d07df8043f8a74b301dbb8c176e6a1992b2dc229c5ae94b5c260cf549c41712fa40b7e639166c6a8461303a27c2a3b9c55b8ca155ec3\" class=\"icon\" alt=\"Icon\"> </Center>\n",
        "\n",
        "from google.colab import drive\n",
        "drive.mount('/content/drive')"
      ],
      "execution_count": null,
      "outputs": []
    },
    {
      "cell_type": "markdown",
      "source": [
        "#<b>📲Enter M3U8 Link & Gdrive Path📁"
      ],
      "metadata": {
        "id": "g4O2NpjuPbpI"
      }
    },
    {
      "cell_type": "code",
      "metadata": {
        "id": "9t3VWUOoDZ1I",
        "cellView": "form"
      },
      "source": [
        "import os\n",
        "import requests\n",
        "from tqdm.auto import tqdm\n",
        "\n",
        "M3u8_link = \"https://example.com/video.m3u8\" #@param {type:\"string\"}\n",
        "Download_location = \"/content/drive/MyDrive/video.mp4\" #@param {type:\"string\"}\n",
        "temp_location = \"/content/temp.ts\" #dont make changes in this\n",
        "\n",
        "response = requests.get(M3u8_link)\n",
        "lines = response.text.strip().split('\\n')\n",
        "\n",
        "with open(temp_location, 'wb') as f:\n",
        "    for line in tqdm(lines, desc='Downloading'):\n",
        "        if line.startswith('#'):\n",
        "            continue\n",
        "        url = line.strip()\n",
        "        response = requests.get(url, stream=True)\n",
        "        for chunk in response.iter_content(chunk_size=1024):\n",
        "            if chunk:\n",
        "                f.write(chunk)\n",
        "\n",
        "os.system(f\"ffmpeg -i {temp_location} -c copy {Download_location}\")\n",
        "os.remove(temp_location)\n",
        "print(\"Download Completed Successfully !\")"
      ],
      "execution_count": null,
      "outputs": []
    }
  ]
}