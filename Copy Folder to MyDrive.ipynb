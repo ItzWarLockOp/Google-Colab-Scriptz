{
  "cells": [
    {
      "cell_type": "markdown",
      "metadata": {
        "id": "view-in-github",
        "colab_type": "text"
      },
      "source": [
        "<a href=\"https://colab.research.google.com/github/ItzWarLockOp/Google-Colab-Scriptz/blob/main/Copy%20Folder%20to%20MyDrive.ipynb\" target=\"_parent\"><img src=\"https://colab.research.google.com/assets/colab-badge.svg\" alt=\"Open In Colab\"/></a>"
      ]
    },
    {
      "cell_type": "markdown",
      "source": [
        "#<b>COPY FOLDER TO MY DRIVE \n",
        "<Center> <img src=\"https://edtechteacher.org/wp-content/uploads/brizy/imgs/Google-Drive-Folder-414x336x1x0x412x336x1680337051.png\" height=\"60\" >"
      ],
      "metadata": {
        "id": "GvoX6IO6f-xO"
      }
    },
    {
      "cell_type": "markdown",
      "source": [
        "___________________________________________"
      ],
      "metadata": {
        "id": "R6M6erL7iNJs"
      }
    },
    {
      "cell_type": "code",
      "source": [
        "\n",
        "#@title <b><Center> Mount Google Drive </Center>\n",
        "#@markdown <Center> <img src=\"https://kstatic.googleusercontent.com/files/e20dbc1db7b6eab22fb2d07df8043f8a74b301dbb8c176e6a1992b2dc229c5ae94b5c260cf549c41712fa40b7e639166c6a8461303a27c2a3b9c55b8ca155ec3\" class=\"icon\" height=\"40\" alt=\"Icon\">\n",
        "\n",
        "from google.colab import drive\n",
        "drive.mount('/content/drive')"
      ],
      "metadata": {
        "id": "DeE7aXlOKSgm",
        "cellView": "form"
      },
      "execution_count": null,
      "outputs": []
    },
    {
      "cell_type": "markdown",
      "source": [
        "___________________________________________"
      ],
      "metadata": {
        "id": "8pPwFcFAc1tC"
      }
    },
    {
      "cell_type": "code",
      "source": [
        "#@markdown <Center> <img src=\"https://www.google.com/images/branding/googlelogo/2x/googlelogo_light_color_160x56dp.png\" class=\"icon\" height=\"50\" alt=\"Icon\" > \n",
        "#@title <Center> <b> Authenticate Your Google Account \n",
        "\n",
        "!pip install -q tqdm\n",
        "!pip install -q google-api-python-client google-auth google-auth-oauthlib google-auth-httplib2\n",
        "\n",
        "from google.colab import auth\n",
        "from googleapiclient.discovery import build\n",
        "\n",
        "# Authenticate and create the Drive API client\n",
        "auth.authenticate_user()\n",
        "drive_service = build('drive', 'v3')\n",
        "\n",
        "print(\"User Authenticated Successfully!\")"
      ],
      "metadata": {
        "id": "k38b6YKkHuOb",
        "cellView": "form"
      },
      "execution_count": null,
      "outputs": []
    },
    {
      "cell_type": "markdown",
      "source": [
        "___________________________________________"
      ],
      "metadata": {
        "id": "ta5saM1Fc84b"
      }
    },
    {
      "cell_type": "markdown",
      "source": [
        "#<b>📲Enter Shared Folder Path & Destination Path📁"
      ],
      "metadata": {
        "id": "YpDcx8SVeAB8"
      }
    },
    {
      "cell_type": "code",
      "source": [
        "\n",
        "from tqdm import tqdm\n",
        "\n",
        "def copy_shared_folder_to_target_folder(shared_folder_path, destination_path):\n",
        "    # Get the shared folder ID from the path\n",
        "    query = f\"name='{shared_folder_path.split('/')[-1]}' and mimeType='application/vnd.google-apps.folder'\"\n",
        "    shared_folder = drive_service.files().list(q=query, fields='files(id)').execute()\n",
        "    shared_folder_id = shared_folder['files'][0]['id']\n",
        "    shared_folder_name = shared_folder_path.split('/')[-1]\n",
        "\n",
        "    # Get the destination folder ID from the path\n",
        "    query = f\"name='{destination_path.split('/')[-1]}' and mimeType='application/vnd.google-apps.folder'\"\n",
        "    destination_folder = drive_service.files().list(q=query, fields='files(id)').execute()\n",
        "    destination_folder_id = destination_folder['files'][0]['id']\n",
        "\n",
        "    # Create a folder with the same name in the destination folder\n",
        "    folder_metadata = {\n",
        "        'name': shared_folder_name,\n",
        "        'parents': [destination_folder_id],\n",
        "        'mimeType': 'application/vnd.google-apps.folder'\n",
        "    }\n",
        "    new_folder = drive_service.files().create(body=folder_metadata, fields='id').execute()\n",
        "    new_folder_id = new_folder.get('id')\n",
        "\n",
        "    # Copy the contents of the shared folder to the new folder\n",
        "    query = f\"'{shared_folder_id}' in parents\"\n",
        "    shared_folder_contents = drive_service.files().list(q=query, fields='files(id)').execute()\n",
        "    num_files = len(shared_folder_contents.get('files', []))\n",
        "\n",
        "    with tqdm(total=num_files, desc='Copying files') as pbar:\n",
        "        for file in shared_folder_contents.get('files', []):\n",
        "            file_id = file.get('id')\n",
        "            drive_service.files().copy(fileId=file_id, body={'parents': [new_folder_id]}).execute()\n",
        "            pbar.update(1)\n",
        "\n",
        "    print('\\nShared folder copied successfully!🎉')\n",
        "\n",
        "shared_folder_path = '/content/drive/MyDrive/Shared Folder' #@param {type:\"string\"}\n",
        "destination_path = '/content/drive/MyDrive/Destination' #@param {type:\"string\"}\n",
        "\n",
        "copy_shared_folder_to_target_folder(shared_folder_path, destination_path)"
      ],
      "metadata": {
        "id": "mPsl4j94JWs9",
        "cellView": "form"
      },
      "execution_count": null,
      "outputs": []
    }
  ],
  "metadata": {
    "colab": {
      "provenance": [],
      "include_colab_link": true
    },
    "kernelspec": {
      "display_name": "Python 3",
      "name": "python3"
    }
  },
  "nbformat": 4,
  "nbformat_minor": 0
}