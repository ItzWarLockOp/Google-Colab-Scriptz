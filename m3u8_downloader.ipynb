{
  "nbformat": 4,
  "nbformat_minor": 0,
  "metadata": {
    "colab": {
      "name": "m3u8 downloader.ipynb",
      "provenance": [],
      "include_colab_link": true
    },
    "kernelspec": {
      "name": "python3",
      "display_name": "Python 3"
    },
    "language_info": {
      "name": "python"
    }
  },
  "cells": [
    {
      "cell_type": "markdown",
      "metadata": {
        "id": "view-in-github",
        "colab_type": "text"
      },
      "source": [
        "<a href=\"https://colab.research.google.com/github/ItzWarLockOp/Google-Colab-Scriptz/blob/main/m3u8_downloader.ipynb\" target=\"_parent\"><img src=\"https://colab.research.google.com/assets/colab-badge.svg\" alt=\"Open In Colab\"/></a>"
      ]
    },
    {
      "cell_type": "markdown",
      "metadata": {
        "id": "MoLddhWRxwdv"
      },
      "source": [
        "<a href=\"https://github.com/jakiyaa/m3u8-downloader\">\n",
        "<img src=\"https://github.com/fluidicon.png\" height=100px, align=\"left\"></a>\n",
        "\n",
        "\n",
        "\n",
        "<center><h1><b>M3u8 online Downloader </h1></b></center>"
      ]
    },
    {
      "cell_type": "code",
      "metadata": {
        "cellView": "form",
        "id": "H0qP3yiDrMD8"
      },
      "source": [
        "#@title ← Run <Center>Mount Google Drive </Center>\n",
        "#@markdown <Center> <img src=\"https://kstatic.googleusercontent.com/files/e20dbc1db7b6eab22fb2d07df8043f8a74b301dbb8c176e6a1992b2dc229c5ae94b5c260cf549c41712fa40b7e639166c6a8461303a27c2a3b9c55b8ca155ec3\" class=\"icon\" alt=\"Icon\">\n",
        "\n",
        "from google.colab import drive\n",
        "drive.mount('/content/drive')"
      ],
      "execution_count": null,
      "outputs": []
    },
    {
      "cell_type": "code",
      "metadata": {
        "id": "9t3VWUOoDZ1I"
      },
      "source": [
        "import os\n",
        "import requests\n",
        "from tqdm.notebook import tqdm\n",
        "\n",
        "M3u8_link = \"https://eu-01.cache.nextcdn.org/stream/01/09/b5513e71f8df5bcc7b513b1157137cc14fef15899f278daa032478d87e36e9a1/uwu.m3u8\" #@param {type:\"string\"}\n",
        "Download_location = \"/content/drive/MyDrive/myx7video.mp4\" #@param {type:\"string\"}\n",
        "\n",
        "response = requests.get(M3u8_link)\n",
        "lines = response.text.strip().split('\\n')\n",
        "\n",
        "with open(Download_location, 'wb') as f:\n",
        "    for line in tqdm(lines, desc='Downloading'):\n",
        "        if line.startswith('#'):\n",
        "            continue\n",
        "        url = line.strip()\n",
        "        response = requests.get(url, stream=True)\n",
        "        for chunk in response.iter_content(chunk_size=1024):\n",
        "            if chunk:\n",
        "                f.write(chunk)"
      ],
      "execution_count": null,
      "outputs": []
    }
  ]
}