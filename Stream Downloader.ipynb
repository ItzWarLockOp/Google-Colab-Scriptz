{
  "cells": [
    {
      "cell_type": "markdown",
      "metadata": {
        "id": "view-in-github",
        "colab_type": "text"
      },
      "source": [
        "<a href=\"https://colab.research.google.com/github/ItzWarLockOp/Google-Colab-Scriptz/blob/main/Stream%20Downloader.ipynb\" target=\"_parent\"><img src=\"https://colab.research.google.com/assets/colab-badge.svg\" alt=\"Open In Colab\"/></a>"
      ]
    },
    {
      "cell_type": "markdown",
      "source": [
        "\n",
        "# <b><center><img src=\"https://raw.githubusercontent.com/ItzWarLockOp/Google-Colab-Scriptz/main/png/IMG_20230525_141520.png\" class=\"icon\" alt=\"Icon\">"
      ],
      "metadata": {
        "id": "VRf6_gI8p0i5"
      }
    },
    {
      "cell_type": "markdown",
      "source": [
        "\n",
        "# <b><center><img src=\"https://kstatic.googleusercontent.com/files/e20dbc1db7b6eab22fb2d07df8043f8a74b301dbb8c176e6a1992b2dc229c5ae94b5c260cf549c41712fa40b7e639166c6a8461303a27c2a3b9c55b8ca155ec3\" class=\"icon\" height=\"30\"  alt=\"Icon\">\n",
        "\n",
        "#<center><h5><b> Mount Google Drive + Install Required Library"
      ],
      "metadata": {
        "id": "B_XRr5E67Mxk"
      }
    },
    {
      "cell_type": "code",
      "source": [
        "\n",
        "import time\n",
        "\n",
        "MODE = \"MOUNT\" #@param [\"MOUNT\", \"UNMOUNT\"]\n",
        "\n",
        "# Mount or unmount your GDrive\n",
        "from google.colab import drive\n",
        "drive.mount._DEBUG = False\n",
        "\n",
        "if MODE == \"MOUNT\":\n",
        "    drive.mount('/content/drive', force_remount=True)\n",
        "    print(\"GDrive Mounted Successfully!     \")\n",
        "    print(\"Installing Required Library...\", end='')\n",
        "    for _ in range(4):\n",
        "        time.sleep(0.5)\n",
        "        print(\".\", end='', flush=True)\n",
        "    !pip install yt-dlp > /dev/null 2>&1\n",
        "    print(\"\\nLibrary Installation Finished! ✅      \")\n",
        "elif MODE == \"UNMOUNT\":\n",
        "    print(\"Unmounting GDrive...     \", end='\\r')\n",
        "    try:\n",
        "        drive.flush_and_unmount()\n",
        "        print(\"GDrive Unmounted Successfully!     \")\n",
        "    except ValueError:\n",
        "        pass\n",
        "        print(\"GDrive is not mounted.     \")"
      ],
      "metadata": {
        "id": "ONIWCVN_SXVD",
        "cellView": "form"
      },
      "execution_count": null,
      "outputs": []
    },
    {
      "cell_type": "markdown",
      "source": [
        "#<h4><b>🌐Enter Url and File Path📁"
      ],
      "metadata": {
        "id": "amCGbR1cqhDY"
      }
    },
    {
      "cell_type": "code",
      "source": [
        "\n",
        "import os\n",
        "import subprocess\n",
        "import time\n",
        "import re\n",
        "import shutil\n",
        "from IPython.display import clear_output\n",
        "\n",
        "def download_video(VideoURL, SavePath, options=None, NewName=None):\n",
        "    command = [\"yt-dlp\", VideoURL, \"-o\", SavePath]\n",
        "    if options:\n",
        "        command.extend(options)\n",
        "\n",
        "    log_file = \"/content/download.log\"\n",
        "    with open(log_file, \"w\") as f:\n",
        "        process = subprocess.Popen(command, stdout=f)\n",
        "        while process.poll() is None:\n",
        "            time.sleep(1)\n",
        "            with open(log_file, \"r\") as f_read:\n",
        "                output = f_read.read().strip()\n",
        "                progress_match = re.findall(r\"\\d+\\.\\d+%\", output)\n",
        "                if progress_match:\n",
        "                    progress = float(progress_match[-1].strip(\"%\"))\n",
        "                    clear_output(wait=True)\n",
        "                    print(f\"Progress: {progress}%\")\n",
        "        # Read any remaining output after the process finishes\n",
        "        with open(log_file, \"r\") as f_read:\n",
        "            output = f_read.read().strip()\n",
        "            progress_match = re.findall(r\"\\d+\\.\\d+%\", output)\n",
        "            if progress_match:\n",
        "                progress = float(progress_match[-1].strip(\"%\"))\n",
        "                clear_output(wait=True)\n",
        "                print(f\"Progress: {progress}%\")\n",
        "\n",
        "    # Remove the log file\n",
        "    os.remove(log_file)\n",
        "\n",
        "    # Rename the output file if a new name is provided\n",
        "    if NewName:\n",
        "        if not NewName.endswith(\".mp4\"):\n",
        "            NewName += \".mp4\"\n",
        "        renamed_output_path = os.path.join(os.path.dirname(SavePath), NewName)\n",
        "        os.rename(SavePath, renamed_output_path)\n",
        "        SavePath = renamed_output_path\n",
        "\n",
        "    # Move the output file to the provided Google Drive path\n",
        "    DownloadPath = \"/content/drive/MyDrive/\"  #@param {type:\"string\"}\n",
        "    destination_path = os.path.join(DownloadPath, os.path.basename(SavePath))\n",
        "    os.makedirs(os.path.dirname(destination_path), exist_ok=True)\n",
        "    shutil.move(SavePath, destination_path)\n",
        "    print(\"File Downloaded Successfully!🎉\")\n",
        "\n",
        "# Example usage:\n",
        "VideoURL = \"https://yourlink.com/hls=stream.m3u8\" #@param {type:\"string\"}\n",
        "output_file = \"/content/output.mp4\"\n",
        "download_options = [\"-f\", \"best\"]\n",
        "NewName = \"Video\" #@param {type:\"string\"}\n",
        "\n",
        "download_video(VideoURL, output_file, download_options, NewName=NewName)"
      ],
      "metadata": {
        "cellView": "form",
        "id": "rRH7VZc4nw1Y"
      },
      "execution_count": null,
      "outputs": []
    }
  ],
  "metadata": {
    "colab": {
      "provenance": [],
      "collapsed_sections": [
        "B_XRr5E67Mxk",
        "amCGbR1cqhDY"
      ],
      "include_colab_link": true
    },
    "kernelspec": {
      "display_name": "Python 3",
      "name": "python3"
    }
  },
  "nbformat": 4,
  "nbformat_minor": 0
}