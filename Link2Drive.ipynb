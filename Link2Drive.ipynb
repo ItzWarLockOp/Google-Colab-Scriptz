{
  "nbformat": 4,
  "nbformat_minor": 0,
  "metadata": {
    "colab": {
      "provenance": [],
      "authorship_tag": "ABX9TyMPrOpfd52J8WhAdK+3edUP",
      "include_colab_link": true
    },
    "kernelspec": {
      "name": "python3",
      "display_name": "Python 3"
    },
    "language_info": {
      "name": "python"
    }
  },
  "cells": [
    {
      "cell_type": "markdown",
      "metadata": {
        "id": "view-in-github",
        "colab_type": "text"
      },
      "source": [
        "<a href=\"https://colab.research.google.com/github/ItzWarLockOp/Google-Colab-Scriptz/blob/main/Link2Drive.ipynb\" target=\"_parent\"><img src=\"https://colab.research.google.com/assets/colab-badge.svg\" alt=\"Open In Colab\"/></a>"
      ]
    },
    {
      "cell_type": "markdown",
      "source": [
        "<center><h1><b> 📁Link to Gdrive📁 </h1></b></center>"
      ],
      "metadata": {
        "id": "-i1qFR-JF_gH"
      }
    },
    {
      "cell_type": "markdown",
      "source": [
        "<b>Step 1 ↴ </b>"
      ],
      "metadata": {
        "id": "rRAp7mUdGjth"
      }
    },
    {
      "cell_type": "code",
      "execution_count": null,
      "metadata": {
        "colab": {
          "base_uri": "https://localhost:8080/"
        },
        "cellView": "form",
        "id": "bBwkqUX7AIMv",
        "outputId": "77263e50-b92a-479b-d633-6391c6d56e11"
      },
      "outputs": [
        {
          "output_type": "stream",
          "name": "stdout",
          "text": [
            "Mounted at /content/drive\n"
          ]
        }
      ],
      "source": [
        "#@title ⬇ Run <Center>Mount Google Drive </Center>\n",
        "#@markdown <Center> <img src=\"https://kstatic.googleusercontent.com/files/e20dbc1db7b6eab22fb2d07df8043f8a74b301dbb8c176e6a1992b2dc229c5ae94b5c260cf549c41712fa40b7e639166c6a8461303a27c2a3b9c55b8ca155ec3\" class=\"icon\" alt=\"Icon\">\n",
        "\n",
        "from google.colab import drive\n",
        "drive.mount('/content/drive')"
      ]
    },
    {
      "cell_type": "markdown",
      "source": [
        "<b>Step 2 ↴ </b>"
      ],
      "metadata": {
        "id": "owsXlKUIG87h"
      }
    },
    {
      "cell_type": "code",
      "source": [
        "#@title ⬇ Run <center> </font> <font color='yellow'> 🖥️Enter Download Link & Path 📡  </center> { display-mode: \"form\" }\n",
        "\n",
        "\n",
        "# Get user input for the download link and path\n",
        "download_link = \"\" #@param {type:\"string\"}\n",
        "path = \"\" #@param {type:\"string\"}\n",
        "\n",
        "# Download the file and save it to the specified path\n",
        "!wget -P '{path}' '{download_link}'"
      ],
      "metadata": {
        "id": "SrbiAySmBOkC"
      },
      "execution_count": null,
      "outputs": []
    }
  ]
}