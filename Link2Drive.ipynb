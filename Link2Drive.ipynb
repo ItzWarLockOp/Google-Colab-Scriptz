{
  "nbformat": 4,
  "nbformat_minor": 0,
  "metadata": {
    "colab": {
      "provenance": [],
      "authorship_tag": "ABX9TyP5p7nmhbdTTHZb16cOd48Y",
      "include_colab_link": true
    },
    "kernelspec": {
      "name": "python3",
      "display_name": "Python 3"
    },
    "language_info": {
      "name": "python"
    }
  },
  "cells": [
    {
      "cell_type": "markdown",
      "metadata": {
        "id": "view-in-github",
        "colab_type": "text"
      },
      "source": [
        "<a href=\"https://colab.research.google.com/github/ItzWarLockOp/Google-Colab-Scriptz/blob/main/Link2Drive.ipynb\" target=\"_parent\"><img src=\"https://colab.research.google.com/assets/colab-badge.svg\" alt=\"Open In Colab\"/></a>"
      ]
    },
    {
      "cell_type": "markdown",
      "source": [
        "\n",
        "<center><img src=\"https://i.ibb.co/k0FNWp3/IMG-20230528-200512.png\" height=\"150\" alt=\"Rclone-Logo\"/></center>"
      ],
      "metadata": {
        "id": "-i1qFR-JF_gH"
      }
    },
    {
      "cell_type": "markdown",
      "source": [
        "#<h4> <b>[Step : 1️⃣]"
      ],
      "metadata": {
        "id": "rRAp7mUdGjth"
      }
    },
    {
      "cell_type": "markdown",
      "source": [
        "#<h3><Center><b><font color='lime'>Mount Google Drive </Center>\n",
        "# <Center><img src=\"https://kstatic.googleusercontent.com/files/e20dbc1db7b6eab22fb2d07df8043f8a74b301dbb8c176e6a1992b2dc229c5ae94b5c260cf549c41712fa40b7e639166c6a8461303a27c2a3b9c55b8ca155ec3\" class=\"icon\" alt=\"Icon\">"
      ],
      "metadata": {
        "id": "uTdxuiOilDYM"
      }
    },
    {
      "cell_type": "code",
      "execution_count": null,
      "metadata": {
        "cellView": "form",
        "id": "bBwkqUX7AIMv"
      },
      "outputs": [],
      "source": [
        "\n",
        "MODE = \"MOUNT\" #@param [\"MOUNT\", \"UNMOUNT\"]\n",
        "\n",
        "# Mount or unmount your GDrive\n",
        "from google.colab import drive\n",
        "drive.mount._DEBUG = False\n",
        "\n",
        "if MODE == \"MOUNT\":\n",
        "  drive.mount('/content/drive', force_remount=True)\n",
        "elif MODE == \"UNMOUNT\":\n",
        "  try:\n",
        "    drive.flush_and_unmount()\n",
        "    print(\"Drive Unmounted!\")\n",
        "  except ValueError:\n",
        "    pass\n",
        "  get_ipython().system_raw(\"rm -rf /root/.config/Google/DriveFS\")"
      ]
    },
    {
      "cell_type": "markdown",
      "source": [
        "#<h4> <b>[Step : 2️⃣]"
      ],
      "metadata": {
        "id": "owsXlKUIG87h"
      }
    },
    {
      "cell_type": "markdown",
      "source": [
        "#<center> </font> <h3><b> <font color='yellow'> 🖥️Enter Url, Path & File Name📡  </center>"
      ],
      "metadata": {
        "id": "KzNrT4Mrj4VQ"
      }
    },
    {
      "cell_type": "code",
      "source": [
        "import requests\n",
        "from tqdm import tqdm\n",
        "\n",
        "# Get user input for the download link and path\n",
        "download_link = \"https://YourDirectDownloadLink.com/File.xyz\" #@param {type:\"string\"}\n",
        "path = \"/content/drive/My Drive\" #@param {type:\"string\"}\n",
        "\n",
        "# Extract the filename from the download link\n",
        "filename = download_link.split(\"/\")[-1]\n",
        "\n",
        "# Find the position of the last dot in the filename\n",
        "last_dot_index = filename.rfind(\".\")\n",
        "\n",
        "# Extract the name and extension\n",
        "name = filename[:last_dot_index]\n",
        "extension = filename[last_dot_index:]\n",
        "\n",
        "# Get user input for the desired name if renaming is selected\n",
        "rename_file = False #@param {type:\"boolean\"}\n",
        "\n",
        "if rename_file:\n",
        "    new_name = \"PLEASE TICK [ rename_file: \\u2705 ]\" #@param {type:\"string\"}\n",
        "else:\n",
        "    new_name = name.replace(\"%20\", \" \")\n",
        "\n",
        "# Generate the new filename with the original extension\n",
        "new_filename = f\"{new_name}{extension}\"\n",
        "\n",
        "# Download the file and save it to the specified path with the new filename\n",
        "response = requests.get(download_link, stream=True)\n",
        "total_size = int(response.headers.get(\"content-length\", 0))\n",
        "\n",
        "with open(f\"{path}/{new_filename}\", \"wb\") as file:\n",
        "    progress_bar = tqdm(total=total_size, unit=\"B\", unit_scale=True)\n",
        "    for data in response.iter_content(chunk_size=1024):\n",
        "        file.write(data)\n",
        "        progress_bar.update(len(data))\n",
        "    progress_bar.close()\n",
        "\n",
        "print(\"\\nDownload complete!\")"
      ],
      "metadata": {
        "id": "SrbiAySmBOkC",
        "cellView": "form"
      },
      "execution_count": null,
      "outputs": []
    }
  ]
}