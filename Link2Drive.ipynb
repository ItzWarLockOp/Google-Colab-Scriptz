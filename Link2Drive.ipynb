{
  "nbformat": 4,
  "nbformat_minor": 0,
  "metadata": {
    "colab": {
      "provenance": [],
      "include_colab_link": true
    },
    "kernelspec": {
      "name": "python3",
      "display_name": "Python 3"
    },
    "language_info": {
      "name": "python"
    }
  },
  "cells": [
    {
      "cell_type": "markdown",
      "metadata": {
        "id": "view-in-github",
        "colab_type": "text"
      },
      "source": [
        "<a href=\"https://colab.research.google.com/github/ItzWarLockOp/Google-Colab-Scriptz/blob/main/Link2Drive.ipynb\" target=\"_parent\"><img src=\"https://colab.research.google.com/assets/colab-badge.svg\" alt=\"Open In Colab\"/></a>"
      ]
    },
    {
      "cell_type": "markdown",
      "source": [
        "\n",
        "<center><img src=\"https://i.ibb.co/k0FNWp3/IMG-20230528-200512.png\" height=\"151\" </center>"
      ],
      "metadata": {
        "id": "-i1qFR-JF_gH"
      }
    },
    {
      "cell_type": "markdown",
      "source": [
        "#<h4> <b>[Step : 1️⃣]"
      ],
      "metadata": {
        "id": "rRAp7mUdGjth"
      }
    },
    {
      "cell_type": "markdown",
      "source": [
        "#<h3><Center><b><font color='lime'>Mount Google Drive </Center>\n",
        "# <Center><img src=\"https://kstatic.googleusercontent.com/files/e20dbc1db7b6eab22fb2d07df8043f8a74b301dbb8c176e6a1992b2dc229c5ae94b5c260cf549c41712fa40b7e639166c6a8461303a27c2a3b9c55b8ca155ec3\" class=\"icon\" alt=\"Icon\">"
      ],
      "metadata": {
        "id": "uTdxuiOilDYM"
      }
    },
    {
      "cell_type": "code",
      "execution_count": null,
      "metadata": {
        "id": "bBwkqUX7AIMv",
        "cellView": "form"
      },
      "outputs": [],
      "source": [
        "\n",
        "MODE = \"MOUNT\" #@param [\"MOUNT\", \"UNMOUNT\"]\n",
        "\n",
        "# Mount or unmount your GDrive\n",
        "from google.colab import drive\n",
        "drive.mount._DEBUG = False\n",
        "\n",
        "if MODE == \"MOUNT\":\n",
        "  drive.mount('/content/drive', force_remount=True)\n",
        "elif MODE == \"UNMOUNT\":\n",
        "  try:\n",
        "    drive.flush_and_unmount()\n",
        "    print(\"Drive Unmounted!\")\n",
        "  except ValueError:\n",
        "    pass\n",
        "  get_ipython().system_raw(\"rm -rf /root/.config/Google/DriveFS\")"
      ]
    },
    {
      "cell_type": "markdown",
      "source": [
        "#<h4> <b>[Step : 2️⃣]"
      ],
      "metadata": {
        "id": "owsXlKUIG87h"
      }
    },
    {
      "cell_type": "markdown",
      "source": [
        "#<center> </font> <h3><b> <font color='yellow'> 🖥️Enter Url, Path & New Name📡  </center>"
      ],
      "metadata": {
        "id": "KzNrT4Mrj4VQ"
      }
    },
    {
      "cell_type": "code",
      "source": [
        "#@title <center> <b><h5> • Please Make Sure To Fill All The Info • </b></h5></center>\n",
        "#@markdown ------\n",
        "\n",
        "import os\n",
        "import requests\n",
        "from tqdm import tqdm\n",
        "import math\n",
        "\n",
        "# Get user input for the download link and path\n",
        "DownloadLink = \"https://DirectDownloadLink.com/Video.mkv\" #@param {type:\"string\"}\n",
        "Path = \"/content/drive/MyDrive/\" #@param {type:\"string\"}\n",
        "\n",
        "# Set the desired new name for the file\n",
        "NAMEwithEXTENSION = \"Video.mkv\" #@param {type:\"string\"}\n",
        "\n",
        "#@markdown ------\n",
        "\n",
        "# Print the file name and save path\n",
        "print(\"File Name:\", NAMEwithEXTENSION)\n",
        "print(\"Save Path:\", os.path.join(Path, NAMEwithEXTENSION))\n",
        "print()\n",
        "\n",
        "# Check if NAMEwithEXTENSION is empty\n",
        "if not NAMEwithEXTENSION:\n",
        "    print(\"Please enter a name with an appropriate extension.\")\n",
        "    Download = False\n",
        "else:\n",
        "    # Check if extension is present\n",
        "    if '.' not in NAMEwithEXTENSION:\n",
        "        print(\"Please enter an appropriate extension to download the file.\")\n",
        "        Download = False\n",
        "    else:\n",
        "        Download = True\n",
        "\n",
        "if Download:\n",
        "    # Check if the file path already exists\n",
        "    file_path = os.path.join(Path, NAMEwithEXTENSION)\n",
        "    file_directory = os.path.dirname(file_path)\n",
        "    os.makedirs(file_directory, exist_ok=True)  # Create the directory structure if it doesn't exist\n",
        "\n",
        "    file_exists = os.path.exists(file_path)\n",
        "    if file_exists:\n",
        "        print(\"A file with the same name already exists in the specified path. Download process aborted.\")\n",
        "        Download = False\n",
        "\n",
        "if Download:\n",
        "    # Download the file and save it to the specified path with the new filename\n",
        "    response = requests.get(DownloadLink, stream=True)\n",
        "    total_size = int(response.headers.get(\"content-length\", 0))\n",
        "\n",
        "    # Convert the total size to a human-readable format\n",
        "    size_units = [\"B\", \"KB\", \"MB\", \"GB\", \"TB\"]\n",
        "    size_index = int(math.floor(math.log(total_size, 1024)))\n",
        "    total_size_hr = f\"{round(total_size / (1024 ** size_index), 2)} {size_units[size_index]}\"\n",
        "\n",
        "    # Print the file size\n",
        "    print(\"File Size:\", total_size_hr)\n",
        "    print()\n",
        "\n",
        "    # Download the file with a progress bar\n",
        "    with open(file_path, \"wb\") as file:\n",
        "        progress_bar = tqdm(total=total_size, unit=\"B\", unit_scale=True, ncols=80,\n",
        "                            bar_format='{l_bar}{bar}| {n_fmt}/{total_fmt}')\n",
        "        for data in response.iter_content(chunk_size=1024):\n",
        "            file.write(data)\n",
        "            progress_bar.update(len(data))\n",
        "        progress_bar.close()\n",
        "\n",
        "    # Add an extra line space\n",
        "    print(\"\\n\")\n",
        "\n",
        "    # Print completion message\n",
        "    print(\"📲 File Downloaded Successfully! 🎉\")"
      ],
      "metadata": {
        "cellView": "form",
        "id": "7ZeVzIwMVlM7"
      },
      "execution_count": null,
      "outputs": []
    }
  ]
}