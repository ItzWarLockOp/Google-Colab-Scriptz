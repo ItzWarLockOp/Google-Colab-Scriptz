{
  "cells": [
    {
      "cell_type": "markdown",
      "metadata": {
        "id": "view-in-github",
        "colab_type": "text"
      },
      "source": [
        "<a href=\"https://colab.research.google.com/github/ItzWarLockOp/Google-Colab-Scriptz/blob/main/Link2Drive.ipynb\" target=\"_parent\"><img src=\"https://colab.research.google.com/assets/colab-badge.svg\" alt=\"Open In Colab\"/></a>"
      ]
    },
    {
      "cell_type": "markdown",
      "source": [
        "\n",
        "<center><img src=\"https://i.ibb.co/k0FNWp3/IMG-20230528-200512.png\" height=\"151\" </center>"
      ],
      "metadata": {
        "id": "vKdKLh205Jm7"
      }
    },
    {
      "cell_type": "markdown",
      "source": [
        "#<h3> <b>[Step : 1️⃣]"
      ],
      "metadata": {
        "id": "DhPJeMak5OiT"
      }
    },
    {
      "cell_type": "markdown",
      "source": [
        "#<h3><Center><b><font color='lime'>Mount Google Drive </Center>\n",
        "# <Center><img src=\"https://kstatic.googleusercontent.com/files/e20dbc1db7b6eab22fb2d07df8043f8a74b301dbb8c176e6a1992b2dc229c5ae94b5c260cf549c41712fa40b7e639166c6a8461303a27c2a3b9c55b8ca155ec3\" class=\"icon\" alt=\"Icon\">"
      ],
      "metadata": {
        "id": "36oomrp-5TPh"
      }
    },
    {
      "cell_type": "code",
      "source": [
        "\n",
        "MODE = \"MOUNT\" #@param [\"MOUNT\", \"UNMOUNT\"]\n",
        "\n",
        "# Mount or unmount your GDrive\n",
        "from google.colab import drive\n",
        "drive.mount._DEBUG = False\n",
        "\n",
        "if MODE == \"MOUNT\":\n",
        "  drive.mount('/content/drive', force_remount=True)\n",
        "elif MODE == \"UNMOUNT\":\n",
        "  try:\n",
        "    drive.flush_and_unmount()\n",
        "    print(\"Drive Unmounted!\")\n",
        "  except ValueError:\n",
        "    pass\n",
        "  get_ipython().system_raw(\"rm -rf /root/.config/Google/DriveFS\")"
      ],
      "metadata": {
        "cellView": "form",
        "id": "wtiBbgoG5VQj"
      },
      "execution_count": null,
      "outputs": []
    },
    {
      "cell_type": "markdown",
      "source": [
        "#<h3> <b>[Step : 2️⃣]"
      ],
      "metadata": {
        "id": "8QuF74ji5beg"
      }
    },
    {
      "cell_type": "markdown",
      "source": [
        "#<center> </font> <h3><b> <font color='yellow'> 🖥️Enter Url, Path & New Name📡  </center>"
      ],
      "metadata": {
        "id": "rCf4Sa5c5gqp"
      }
    },
    {
      "cell_type": "code",
      "source": [
        "#@title <center> <b><h5> ★ Only Support Gdrive and Direct Link ★ </b></h5></center>\n",
        "\n",
        "#@markdown ------\n",
        "\n",
        "import os\n",
        "import requests\n",
        "from tqdm import tqdm\n",
        "import math\n",
        "import gdown\n",
        "\n",
        "# Get user input for the download link and path\n",
        "DownloadLink = \"https://directlinkORgdrivelink.com/Video.mkv\" #@param {type:\"string\"}\n",
        "Path = \"/content/drive/My Drive\" #@param {type:\"string\"}\n",
        "\n",
        "# Set the desired new name for the file\n",
        "NAMEwithEXTENSION = \"Video.mkv\" #@param {type:\"string\"}\n",
        "\n",
        "#@markdown <center> <font color='red'> <b><h5> • Doesn't Support Folder Link • </font></b></h5></center>\n",
        "\n",
        "# Print the file name and save path\n",
        "print(\"File Name:\", NAMEwithEXTENSION)\n",
        "print(\"Save Path:\", os.path.join(Path, NAMEwithEXTENSION))\n",
        "print()\n",
        "\n",
        "# Check if NAMEwithEXTENSION is empty\n",
        "if not NAMEwithEXTENSION:\n",
        "    print(\"Please enter a name with an appropriate extension.\")\n",
        "    Download = False\n",
        "else:\n",
        "    # Check if extension is present\n",
        "    if '.' not in NAMEwithEXTENSION:\n",
        "        print(\"Please enter an appropriate extension to download the file.\")\n",
        "        Download = False\n",
        "    else:\n",
        "        Download = True\n",
        "\n",
        "if Download:\n",
        "    # Check if the file path already exists\n",
        "    file_path = os.path.join(Path, NAMEwithEXTENSION)\n",
        "    file_directory = os.path.dirname(file_path)\n",
        "    os.makedirs(file_directory, exist_ok=True)  # Create the directory structure if it doesn't exist\n",
        "\n",
        "    file_exists = os.path.exists(file_path)\n",
        "    if file_exists:\n",
        "        print(\"A file with the same name already exists in the specified path. Download process aborted.\")\n",
        "        Download = False\n",
        "\n",
        "if Download:\n",
        "    try:\n",
        "        if DownloadLink.startswith('https://drive.google.com/') or DownloadLink.startswith('https://www.drive.google.com/'):\n",
        "            # Download file from Google Drive using gdown\n",
        "            gdown.download(DownloadLink, file_path, quiet=False, fuzzy=True)\n",
        "        else:\n",
        "            # Download the file and save it to the specified path with the new filename\n",
        "            response = requests.get(DownloadLink, stream=True)\n",
        "            total_size = int(response.headers.get(\"content-length\", 0))\n",
        "\n",
        "            # Convert the total size to a human-readable format\n",
        "            size_units = [\"B\", \"KB\", \"MB\", \"GB\", \"TB\"]\n",
        "            size_index = int(math.floor(math.log(total_size, 1024)))\n",
        "            total_size_hr = f\"{round(total_size / (1024 ** size_index), 2)} {size_units[size_index]}\"\n",
        "\n",
        "            # Print the file size\n",
        "            print(\"File Size:\", total_size_hr)\n",
        "            print()\n",
        "\n",
        "            # Download the file with a progress bar\n",
        "            with open(file_path, \"wb\") as file:\n",
        "                progress_bar = tqdm(total=total_size, unit=\"B\", unit_scale=True, ncols=80,\n",
        "                                    bar_format='{l_bar}{bar}| {n_fmt}/{total_fmt}')\n",
        "                for data in response.iter_content(chunk_size=1024):\n",
        "                    file.write(data)\n",
        "                    progress_bar.update(len(data))\n",
        "                progress_bar.close()\n",
        "\n",
        "        # Add an extra line space\n",
        "        print(\"\\n\")\n",
        "\n",
        "        # Print completion message\n",
        "        print(\"📲 File Downloaded Successfully! 🎉\")\n",
        "\n",
        "    except Exception as e:\n",
        "        print(\"Failed to Download File. Please Check Your Link.\")\n",
        "        print(\"Error Message:\", str(e))"
      ],
      "metadata": {
        "cellView": "form",
        "id": "OzB402DI5lox"
      },
      "execution_count": null,
      "outputs": []
    }
  ],
  "metadata": {
    "colab": {
      "provenance": [],
      "include_colab_link": true
    },
    "kernelspec": {
      "display_name": "Python 3",
      "name": "python3"
    }
  },
  "nbformat": 4,
  "nbformat_minor": 0
}