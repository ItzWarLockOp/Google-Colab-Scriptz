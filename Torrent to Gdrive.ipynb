{
  "nbformat": 4,
  "nbformat_minor": 0,
  "metadata": {
    "colab": {
      "name": "Torrent To Google Drive Downloader v3",
      "provenance": [],
      "toc_visible": true,
      "include_colab_link": true
    },
    "kernelspec": {
      "name": "python3",
      "display_name": "Python 3"
    }
  },
  "cells": [
    {
      "cell_type": "markdown",
      "metadata": {
        "id": "view-in-github",
        "colab_type": "text"
      },
      "source": [
        "<a href=\"https://colab.research.google.com/github/ItzWarLockOp/Google-Colab-Scriptz/blob/main/Torrent%20to%20Gdrive.ipynb\" target=\"_parent\"><img src=\"https://colab.research.google.com/assets/colab-badge.svg\" alt=\"Open In Colab\"/></a>"
      ]
    },
    {
      "cell_type": "markdown",
      "metadata": {
        "id": "aQuWDmfm9YOi"
      },
      "source": [
        "# Torrent To Google Drive v3\n"
      ]
    },
    {
      "cell_type": "code",
      "source": [
        "from google.colab import drive\n",
        "drive.mount(\"/content/drive\")"
      ],
      "metadata": {
        "colab": {
          "base_uri": "https://localhost:8080/"
        },
        "id": "CUQ0Slkn0Wr4",
        "outputId": "d655f13f-4282-460f-9230-92fa5d2a96b0"
      },
      "execution_count": null,
      "outputs": [
        {
          "output_type": "stream",
          "name": "stdout",
          "text": [
            "Mounted at /content/drive\n"
          ]
        }
      ]
    },
    {
      "cell_type": "code",
      "source": [
        "!apt-get install -y python3-libtorrent"
      ],
      "metadata": {
        "colab": {
          "base_uri": "https://localhost:8080/"
        },
        "id": "PvG7Lny05_og",
        "outputId": "e8d4f54e-74ba-4d5d-c4c8-946120bcd59a"
      },
      "execution_count": null,
      "outputs": [
        {
          "output_type": "stream",
          "name": "stdout",
          "text": [
            "Reading package lists... Done\n",
            "Building dependency tree       \n",
            "Reading state information... Done\n",
            "python3-libtorrent is already the newest version (1.1.13-1.1build2).\n",
            "0 upgraded, 0 newly installed, 0 to remove and 24 not upgraded.\n"
          ]
        }
      ]
    },
    {
      "cell_type": "code",
      "source": [
        "\n",
        "!mkdir \"/content/drive/My Drive/Torrents\""
      ],
      "metadata": {
        "colab": {
          "base_uri": "https://localhost:8080/"
        },
        "id": "7R9y1ALh6BRQ",
        "outputId": "e6187576-3427-45fb-f6e6-1f19653f3c68"
      },
      "execution_count": null,
      "outputs": [
        {
          "output_type": "stream",
          "name": "stdout",
          "text": [
            "mkdir: cannot create directory ‘/content/drive/My Drive/Torrents’: File exists\n"
          ]
        }
      ]
    },
    {
      "cell_type": "code",
      "source": [
        "import libtorrent as lt\n",
        "import time\n",
        "\n",
        "ses = lt.session()\n",
        "ses.listen_on(6881, 6891)\n",
        "downloads = []\n",
        "\n",
        "params = {\n",
        "    \"save_path\": \"/content/drive/My Drive/Torrents\",\n",
        "    \"storage_mode\": lt.storage_mode_t(2)\n",
        "}\n",
        "\n",
        "link = \"magnet:?xt=urn:btih:OBCYRDX6YQC6UDWSBZZDFBJSDLB47C2V&dn=Ant-Man%20And%20The%20Wasp%20Quantumania%20(2023)%20%5B720p%5D%20%5BWEBRip%5D%20%5BYTS.MX%5D&tr=udp%3A%2F%2Ftracker.opentrackr.org%3A1337%2Fannounce\" #@param {type:\"string\"}\n",
        "\n",
        "if \"magnet:\" in link:\n",
        "    handle = lt.add_magnet_uri(ses, link, params)\n",
        "else:\n",
        "    params[\"url\"] = link\n",
        "    handle = ses.add_torrent(params)\n",
        "\n",
        "print(\"Downloading metadata...\")\n",
        "\n",
        "while (not handle.has_metadata()):\n",
        "    time.sleep(1)\n",
        "\n",
        "print(\"Starting\", handle.name())\n",
        "\n",
        "while (handle.status().state != lt.torrent_status.seeding):\n",
        "    s = handle.status()\n",
        "    state_str = ['queued', 'checking', 'downloading metadata', \\\n",
        "                'downloading', 'finished', 'seeding', 'allocating']\n",
        "    print(f\"\\r{handle.name()} - {state_str[s.state]} - {s.download_rate/1000:.1f} KB/s - {s.progress*100:.2f}%\", end=\"\")\n",
        "    time.sleep(5)\n",
        "\n",
        "print(\"\\nDone!\")"
      ],
      "metadata": {
        "cellView": "form",
        "id": "5zcF9bee6ZG8"
      },
      "execution_count": null,
      "outputs": []
    }
  ]
}