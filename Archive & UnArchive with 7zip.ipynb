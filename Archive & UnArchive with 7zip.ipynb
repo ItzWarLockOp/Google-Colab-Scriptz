{
  "cells": [
    {
      "cell_type": "markdown",
      "metadata": {
        "id": "view-in-github",
        "colab_type": "text"
      },
      "source": [
        "<a href=\"https://colab.research.google.com/github/ItzWarLockOp/Google-Colab-Scriptz/blob/main/Archive%20%26%20UnArchive%20with%207zip.ipynb\" target=\"_parent\"><img src=\"https://colab.research.google.com/assets/colab-badge.svg\" alt=\"Open In Colab\"/></a>"
      ]
    },
    {
      "cell_type": "markdown",
      "source": [
        "\n",
        "<center><img src=\"https://raw.githubusercontent.com/ItzWarLockOp/Google-Colab-Scriptz/main/png/IMG_20230603_183942.png\" height=\"110\" </center>"
      ],
      "metadata": {
        "id": "QDljgZUcWVYj"
      }
    },
    {
      "cell_type": "markdown",
      "source": [
        "#<h4> <b>[Step : 1️⃣]"
      ],
      "metadata": {
        "id": "1mn3iBCRFoYJ"
      }
    },
    {
      "cell_type": "markdown",
      "source": [
        "\n",
        "<Center><img src=\"https://kstatic.googleusercontent.com/files/e20dbc1db7b6eab22fb2d07df8043f8a74b301dbb8c176e6a1992b2dc229c5ae94b5c260cf549c41712fa40b7e639166c6a8461303a27c2a3b9c55b8ca155ec3\" class=\"icon\" alt=\"Icon\">\n",
        "<h3><Center><b><font color='lime'>Mount Google Drive </Center>"
      ],
      "metadata": {
        "id": "5NL4-otTFk_v"
      }
    },
    {
      "cell_type": "code",
      "source": [
        "MODE = \"MOUNT\" #@param [\"MOUNT\", \"UNMOUNT\"]\n",
        "\n",
        "# Mount or unmount your GDrive\n",
        "from google.colab import drive\n",
        "drive.mount._DEBUG = False\n",
        "\n",
        "if MODE == \"MOUNT\":\n",
        "  drive.mount('/content/drive', force_remount=True)\n",
        "elif MODE == \"UNMOUNT\":\n",
        "  try:\n",
        "    drive.flush_and_unmount()\n",
        "    print(\"Drive Unmounted!\")\n",
        "  except ValueError:\n",
        "    pass\n",
        "  get_ipython().system_raw(\"rm -rf /root/.config/Google/DriveFS\")"
      ],
      "metadata": {
        "id": "ZEmn0UL4m9pr",
        "cellView": "form"
      },
      "execution_count": null,
      "outputs": []
    },
    {
      "cell_type": "markdown",
      "source": [
        "#<h4> <b>[Step : 2️⃣]"
      ],
      "metadata": {
        "id": "MfutOQnSFuAZ"
      }
    },
    {
      "cell_type": "code",
      "source": [
        "3#@markdown <br><center><img src='data:image/jpeg;base64,/9j/4AAQSkZJRgABAQAAAQABAAD/2wCEAAkGBwgHBgkIBwgKCgkLDRYPDQwMDRsUFRAWIB0iIiAdHx8kKDQsJCYxJx8fLT0tMTU3Ojo6Iys/RD84QzQ5OjcBCgoKDQwNGg8PGjclHyU3Nzc3Nzc3Nzc3Nzc3Nzc3Nzc3Nzc3Nzc3Nzc3Nzc3Nzc3Nzc3Nzc3Nzc3Nzc3Nzc3N//AABEIAC4AUAMBIgACEQEDEQH/xAAbAAACAgMBAAAAAAAAAAAAAAAGBwUIAAMEAf/EAEAQAAEDAwEDBgkJCQEAAAAAAAECAwQABREGBxIhExQxQVFhCBYiVHGRkqHSFRcyQlaBlLHRMzZTYnSisrPTJf/EABQBAQAAAAAAAAAAAAAAAAAAAAD/xAAUEQEAAAAAAAAAAAAAAAAAAAAA/9oADAMBAAIRAxEAPwBRWuTcZMhqFCYRJkPOYQkspWtaj3niaI/FfXP2Yf8AwKf0qI2fvx42sbW/MfbYZbdKlOOrCUpwk4yTwHHFWZTtA0uEgG+W7OPO2/1oK++K+ufsw/8AgU/pUfeYOpbGwh+72bmbTitxC3oiUgqxnHR3Vau0XiDeGeXtz7b7PEBxpYUk46cEcKVXhIXGF8j2y18sDOMnnAaHSGwlScns4nh24PZQFeyFW9p6VhCEDnScJQkJSMx2ScAd5J++jqlds5kxo2zmJfJ15ftTLyiHyjkuT30nkUnykKOSEJ66nfGSyfbSV7DP/GgNKyhmLMhy4ciZH1XMXGjI5R53dYCUJ48SS10cD6q22txi7tly2aplykD6zXN1D/VQENZQf8vWTJHjyrKSUkcpG4EdI/Z10TnHPF+ddLZqSVJDEZx1tSRHUkqSkkA4b7qColSFgtT18vMO2RuDkl0I3sZ3R1qPcBk/dUfTP8H+2iZq1+UoZEWPw7io4/IGge8dFt0fpUr3eRgW+NvEde6ke9R95NVN1LfJeo75Lu09WXZCyoJzkNp+qkdwGBTz8Iq9qh6dhWdlWFT3StzH8NvBx7RT6qrxQWH0Xpo6t2GwrMmUIpecWrlS3v43ZCj0ZHZ20sto2hUaH5o0u+89lySSGEsFG6gfWJ3j18APT2U49klxi2nZDCuE90NRoyZDjiz1AOr9Z7uulnpu1zNrO0KVdLihaLY2sLe4nCGhwQ0D2nHHH8x6aAj0Fa50PY5qWbMG41LgPc3SfpFCUOeV6CVHHcM9ddXg6LPybNTk43ifeKYmuGEN6BvrDCEobRa30oQkYCQGzgAUuvBzH/nTT3n8xQLvZ9pJnW9+mMypjsZGVL3m0gkk5I6fQaIdmE1+E3q+wqlc4jtwpIQoHySUpUN4dxAoI0lZL7fpciBYSN90FLiVOBAIwT0n0GmxonZxcdJ2HUNxvbrPLuW59tphlW8EjcOVKPbwwAO00CEpubC7/YtOs3ORd57MZ59aEpS4rBKUg8f7jSnkMqjyHWFkFTaygkdGQcVroGRtz1FB1DqWC5aZjcqIzCA3mzkBZWreHq3aW9ZWUDuh2S76g2B2i32OOuRIVMWpbaXEoygOu9O8QCM7vuqFtGltrFlhCHa4cmKxvFW61LZTknrOF1P7M9pFs0/ouBbJMSY46yXd5TaU7py4pXWodtFHzw2bzC4eyj4qDzR8DWD2jtQQNVx5Cpz0daIxdkIc5TeQoYBCjjjjpx01q2I6bvWm4Nwj323KiLUtJaUXULCwc5+iTjGB09tbvnhs3mFw9lHxVnzw2bzC4eyj4qCB2T6N1Dp3Vkt662tTENZWpD/LNqHWAMBRPHNNHVf7r3j+hf8A8DQZ88Nm8wuHso+Kua57UrRdLZNt7UOchyVHcZQpSUYClJIGfK6Mmg//2Q==' height=\"40\" alt=\"7zip-logo\"/></center>\n",
        "#@markdown <h1><Center><b><font color='yellow'> Install 7-Zip\n",
        "from IPython.display import clear_output\n",
        "!sudo apt update\n",
        "!sudo apt install p7zip-full p7zip-rar unrar rar\n",
        "clear_output()\n",
        "print(\"Successfully Installed 7zip.\")"
      ],
      "metadata": {
        "id": "-1iZfOGwm6iy",
        "cellView": "form"
      },
      "execution_count": null,
      "outputs": []
    },
    {
      "cell_type": "markdown",
      "source": [
        "#<h2> <b><font color ='Orange'>🔒[Archive Files or Folder]🔒"
      ],
      "metadata": {
        "id": "Ulk8uS8h75GM"
      }
    },
    {
      "cell_type": "markdown",
      "source": [
        "<h3><b><center>• Enter Source Path •</h3></b>\n",
        "<h3><b><center>• Enter Archive Format •</h3></b>\n",
        "<h3><b><center>• Enter Password to Encrypt the file •</h3></b>\n",
        "<h3><b><center>• Select Compression Level •</h3></b>\n",
        "<h3><b><center>• Enter Output Path • </h3></b>\n",
        "\n",
        "Note :\n",
        "* If <b>IncludeDirectory</b> is True then All Files + Including the folder they are in will be Archived.\n",
        "\n",
        "* If <b>IncludeDirectory</b> is False the only just files inside the folder going to be archived."
      ],
      "metadata": {
        "id": "QzDLXtS3Ndo9"
      }
    },
    {
      "cell_type": "code",
      "source": [
        "import os\n",
        "\n",
        "sourcePath = \"/content/drive/MyDrive/Files\" #@param {type:\"string\"}\n",
        "compressType = \"zip\" #@param [\"zip\", \"7z\", \"tar\", \"gzip\", \"bzip2\", \"xz\", \"wim\"]\n",
        "includeDirectory = True #@param {type:\"boolean\"}\n",
        "Password = \"\" #@param {type:\"string\"}\n",
        "Split = \"no\" #@param [\"no\",\"5m\", \"10m\", \"100m\", \"500m\", \"1g\", \"2g\"] {allow-input: true}\n",
        "compressionLevel = \"No Compression\" #@param [\"No Compression\", \"Fastest\", \"Fast\", \"Normal\", \"Maximum\", \"Ultra\"]\n",
        "saveToSourceLocation = False #@param {type:\"boolean\"}\n",
        "\n",
        "compressionLevels = {\n",
        "    \"No Compression\": \"0\",\n",
        "    \"Fastest\": \"1\",\n",
        "    \"Fast\": \"3\",\n",
        "    \"Normal\": \"5\",\n",
        "    \"Maximum\": \"7\",\n",
        "    \"Ultra\": \"9\"\n",
        "}\n",
        "\n",
        "commandLine = \"-t\" + compressType + \" -mx=\" + compressionLevels[compressionLevel]\n",
        "\n",
        "if len(Password) > 0:\n",
        "    commandLine = commandLine + \" -p\" + '\"' + Password + '\"'\n",
        "\n",
        "if Split != \"no\":\n",
        "    commandLine = commandLine + \" -v\" + '\"' + Split + '\"'\n",
        "\n",
        "if os.path.isfile(sourcePath):\n",
        "    sourceName = os.path.splitext(os.path.basename(os.path.abspath(sourcePath)))[0]\n",
        "    sourceFolder = os.path.dirname(os.path.abspath(sourcePath))\n",
        "else:\n",
        "    sourceName = os.path.split(os.path.abspath(sourcePath))[1]\n",
        "    sourceFolder = os.path.split(os.path.abspath(sourcePath))[0]\n",
        "\n",
        "if saveToSourceLocation:\n",
        "    outputPath = sourceFolder\n",
        "else:\n",
        "    outputPath = \"/content/drive/MyDrive/\" #@param {type:\"string\"}\n",
        "\n",
        "if includeDirectory:\n",
        "    compressPath = os.path.join(outputPath, sourceName)\n",
        "else:\n",
        "    compressPath = outputPath\n",
        "\n",
        "commandLine = commandLine + ' \"' + compressPath + '\"'\n",
        "\n",
        "if includeDirectory:\n",
        "    commandLine = commandLine + ' \"' + sourcePath + '\"'\n",
        "else:\n",
        "    commandLine = commandLine + ' \"' + sourcePath + '\"/*'\n",
        "\n",
        "if compressType == \"gzip\":\n",
        "    formatFile = \"gz\"\n",
        "elif compressType == \"bzip2\":\n",
        "    formatFile = \"bz2\"\n",
        "else:\n",
        "    formatFile = compressType\n",
        "\n",
        "!7z a {commandLine}\n",
        "saveFile = compressPath + '.' + formatFile\n",
        "\n",
        "if os.path.exists(saveFile):\n",
        "    if Split != \"no\":\n",
        "        baseName = os.path.splitext(saveFile)[0]\n",
        "        splitFiles = baseName + '.z*'\n",
        "        os.rename(splitFiles, baseName + '.zip')\n",
        "        saveFile = baseName + '.zip'"
      ],
      "metadata": {
        "id": "UTEqy3WkzFfm",
        "cellView": "form"
      },
      "execution_count": null,
      "outputs": []
    },
    {
      "cell_type": "markdown",
      "source": [
        "#<h2> <b><font color ='Orange'>🔓[UnArchive Files]🔓"
      ],
      "metadata": {
        "id": "pNR42lqp4NCd"
      }
    },
    {
      "cell_type": "markdown",
      "source": [
        "<h3><b><center>• Enter File Path •</h3></b>\n",
        "<h3><b><center>• Enter Password if file is Encrypted •</h3></b>\n",
        "<h3><b><center>• Enter Output Path •</h3></b>\n",
        "\n",
        "Note :\n",
        "\n",
        "* If the <b>viewfile</b> is True then Unarchive will not be proceed.\n",
        "\n",
        "* If you want to unarchive the file to same location the source exist then set <b>saveToSourceLocation</b> to True"
      ],
      "metadata": {
        "id": "6FgwH7EKRt_U"
      }
    },
    {
      "cell_type": "code",
      "source": [
        "\n",
        "import os\n",
        "\n",
        "sourceFile = \"/content/File.zip\" #@param {type:\"string\"}\n",
        "viewFile = False #@param {type:\"boolean\"}\n",
        "saveToSourceLocation = False #@param {type:\"boolean\"}\n",
        "\n",
        "sourceName = os.path.splitext(os.path.basename(os.path.abspath(sourceFile)))[0]\n",
        "sourceFolder = os.path.dirname(os.path.abspath(sourceFile))\n",
        "\n",
        "if viewFile is True:\n",
        "    commandLine = 'l \"' + sourceFile + '\"'\n",
        "else:\n",
        "    makeFolder = \"y\"\n",
        "    if saveToSourceLocation is True:\n",
        "        if makeFolder.lower() == \"y\":\n",
        "            extractFolder = os.path.join(sourceFolder, sourceName)\n",
        "            if os.path.exists(extractFolder) is False:\n",
        "                os.makedirs(extractFolder, exist_ok=True)\n",
        "        elif makeFolder.lower() == \"n\":\n",
        "            extractFolder = sourceFolder\n",
        "    else:\n",
        "        outputPath = \"\" #@param {type:\"string\"}\n",
        "        if makeFolder.lower() == \"y\":\n",
        "            extractFolder = os.path.join(outputPath, sourceName)\n",
        "            if os.path.exists(extractFolder) is False:\n",
        "                os.makedirs(extractFolder, exist_ok=True)\n",
        "        elif makeFolder.lower() == \"n\":\n",
        "            extractFolder = outputPath\n",
        "    password = \"\" #@param {type:\"string\"}\n",
        "    if password:\n",
        "        commandLine = 'e -p\"' + password + '\" \"' + sourceFile + '\" -o\"' + extractFolder + '\"'\n",
        "    else:\n",
        "        commandLine = 'e \"' + sourceFile + '\" -o\"' + extractFolder + '\"'\n",
        "\n",
        "!7z {commandLine}"
      ],
      "metadata": {
        "id": "1C4-P4Nhor0y",
        "cellView": "form"
      },
      "execution_count": null,
      "outputs": []
    }
  ],
  "metadata": {
    "colab": {
      "provenance": [],
      "collapsed_sections": [
        "1mn3iBCRFoYJ",
        "Ulk8uS8h75GM"
      ],
      "include_colab_link": true
    },
    "kernelspec": {
      "display_name": "Python 3",
      "name": "python3"
    }
  },
  "nbformat": 4,
  "nbformat_minor": 0
}