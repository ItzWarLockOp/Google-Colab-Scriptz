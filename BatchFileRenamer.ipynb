{
  "cells": [
    {
      "cell_type": "markdown",
      "metadata": {
        "id": "view-in-github",
        "colab_type": "text"
      },
      "source": [
        "<a href=\"https://colab.research.google.com/github/ItzWarLockOp/Google-Colab-Scriptz/blob/main/BatchFileRenamer.ipynb\" target=\"_parent\"><img src=\"https://colab.research.google.com/assets/colab-badge.svg\" alt=\"Open In Colab\"/></a>"
      ]
    },
    {
      "cell_type": "markdown",
      "source": [
        "\n",
        "<center><img src=\"https://i.ibb.co/qgbykgw/IMG-20230531-162006.png\" height=\"100\" </center>"
      ],
      "metadata": {
        "id": "sSVf9yOJYd9v"
      }
    },
    {
      "cell_type": "markdown",
      "source": [
        "#<Center> <img src=\"https://kstatic.googleusercontent.com/files/e20dbc1db7b6eab22fb2d07df8043f8a74b301dbb8c176e6a1992b2dc229c5ae94b5c260cf549c41712fa40b7e639166c6a8461303a27c2a3b9c55b8ca155ec3\" class=\"icon\" height=\"40\" alt=\"Icon\">\n",
        "\n",
        "<h3><b><Center><font color=\"lime\"> •×•Mount Google Drive•×• </Center>"
      ],
      "metadata": {
        "id": "PYr1Hx06WTpu"
      }
    },
    {
      "cell_type": "code",
      "source": [
        "#@title <h3><b><font color=\"orange\">↓↓ Run this Cell \n",
        "from google.colab import drive\n",
        "drive.mount('/content/drive')"
      ],
      "metadata": {
        "id": "jzmH02LB8paO",
        "cellView": "form"
      },
      "execution_count": null,
      "outputs": []
    },
    {
      "cell_type": "markdown",
      "source": [
        "#<h3><b>📲Enter Folder Path & New Name📁"
      ],
      "metadata": {
        "id": "K-4Pm9FmXK2A"
      }
    },
    {
      "cell_type": "code",
      "source": [
        "\n",
        "import os\n",
        "from tqdm import tqdm\n",
        "\n",
        "def rename_files(folder_path, new_name):\n",
        "    file_names = os.listdir(folder_path)\n",
        "    num_files = min(9999, len(file_names))\n",
        "    pbar = tqdm(total=num_files, desc='Renaming Files', unit='file', bar_format='{desc}: {percentage:.0f}% {n_fmt}/{total_fmt}')\n",
        "\n",
        "    for count, file_name in enumerate(file_names, start=1):\n",
        "        if count > num_files:\n",
        "            break\n",
        "\n",
        "        file_extension = os.path.splitext(file_name)[1]\n",
        "        new_file_name = f'{new_name} [{str(count).zfill(4)}]{file_extension}'\n",
        "\n",
        "        old_file_path = os.path.join(folder_path, file_name)\n",
        "        new_file_path = os.path.join(folder_path, new_file_name)\n",
        "\n",
        "        os.rename(old_file_path, new_file_path)\n",
        "        pbar.update(1)\n",
        "\n",
        "    pbar.close()\n",
        "\n",
        "# Example usage:\n",
        "folder_path = '/content/drive/MyDrive/X'  #@param {type:\"string\"}\n",
        "new_name = 'Images'  #@param {type:\"string\"}\n",
        "rename_files(folder_path, new_name)"
      ],
      "metadata": {
        "id": "tmmRlaaR8sn2",
        "cellView": "form"
      },
      "execution_count": null,
      "outputs": []
    }
  ],
  "metadata": {
    "colab": {
      "provenance": [],
      "collapsed_sections": [
        "PYr1Hx06WTpu",
        "K-4Pm9FmXK2A"
      ],
      "include_colab_link": true
    },
    "kernelspec": {
      "display_name": "Python 3",
      "name": "python3"
    }
  },
  "nbformat": 4,
  "nbformat_minor": 0
}