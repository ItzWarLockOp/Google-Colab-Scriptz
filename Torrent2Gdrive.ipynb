{
  "nbformat": 4,
  "nbformat_minor": 0,
  "metadata": {
    "colab": {
      "provenance": [],
      "include_colab_link": true
    },
    "kernelspec": {
      "name": "python3",
      "display_name": "Python 3"
    },
    "widgets": {
      "application/vnd.jupyter.widget-state+json": {
        "1df2cd637306415489719215d7075ee2": {
          "model_module": "@jupyter-widgets/controls",
          "model_name": "HBoxModel",
          "model_module_version": "1.5.0",
          "state": {
            "_dom_classes": [],
            "_model_module": "@jupyter-widgets/controls",
            "_model_module_version": "1.5.0",
            "_model_name": "HBoxModel",
            "_view_count": null,
            "_view_module": "@jupyter-widgets/controls",
            "_view_module_version": "1.5.0",
            "_view_name": "HBoxView",
            "box_style": "",
            "children": [
              "IPY_MODEL_517f201b417441198503caa95aea5330",
              "IPY_MODEL_c171e5300c794cefa02fae306e143530",
              "IPY_MODEL_c7f031bddda84fd5b0a5415e054c94d7"
            ],
            "layout": "IPY_MODEL_94f9523426e94e73808f844eb9b70c04"
          }
        },
        "517f201b417441198503caa95aea5330": {
          "model_module": "@jupyter-widgets/controls",
          "model_name": "HTMLModel",
          "model_module_version": "1.5.0",
          "state": {
            "_dom_classes": [],
            "_model_module": "@jupyter-widgets/controls",
            "_model_module_version": "1.5.0",
            "_model_name": "HTMLModel",
            "_view_count": null,
            "_view_module": "@jupyter-widgets/controls",
            "_view_module_version": "1.5.0",
            "_view_name": "HTMLView",
            "description": "",
            "description_tooltip": null,
            "layout": "IPY_MODEL_2ed0fc8bf013430885610e6680fdc044",
            "placeholder": "​",
            "style": "IPY_MODEL_5a71ac019b9445e1aa7ddac3c333c0a0",
            "value": "Peter Pan Wendy (2023) [720p] [WEBRip] [YTS.MX] - 1138.4 KB/s - 100.00%: 100%"
          }
        },
        "c171e5300c794cefa02fae306e143530": {
          "model_module": "@jupyter-widgets/controls",
          "model_name": "FloatProgressModel",
          "model_module_version": "1.5.0",
          "state": {
            "_dom_classes": [],
            "_model_module": "@jupyter-widgets/controls",
            "_model_module_version": "1.5.0",
            "_model_name": "FloatProgressModel",
            "_view_count": null,
            "_view_module": "@jupyter-widgets/controls",
            "_view_module_version": "1.5.0",
            "_view_name": "ProgressView",
            "bar_style": "danger",
            "description": "",
            "description_tooltip": null,
            "layout": "IPY_MODEL_084cc4581f9647b0b3777d1437bbbb35",
            "max": 997573793,
            "min": 0,
            "orientation": "horizontal",
            "style": "IPY_MODEL_cbb282ee67384b419ee46202950fa08b",
            "value": 997551265
          }
        },
        "c7f031bddda84fd5b0a5415e054c94d7": {
          "model_module": "@jupyter-widgets/controls",
          "model_name": "HTMLModel",
          "model_module_version": "1.5.0",
          "state": {
            "_dom_classes": [],
            "_model_module": "@jupyter-widgets/controls",
            "_model_module_version": "1.5.0",
            "_model_name": "HTMLModel",
            "_view_count": null,
            "_view_module": "@jupyter-widgets/controls",
            "_view_module_version": "1.5.0",
            "_view_name": "HTMLView",
            "description": "",
            "description_tooltip": null,
            "layout": "IPY_MODEL_9c7a920791d24699b02b406d6fcc6707",
            "placeholder": "​",
            "style": "IPY_MODEL_09f9da50da8840e2b233968a25cd88c7",
            "value": " 998M/998M [07:29&lt;00:00, 472kB/s, State=downloading, Seeding=2775, Leeching=1393]"
          }
        },
        "94f9523426e94e73808f844eb9b70c04": {
          "model_module": "@jupyter-widgets/base",
          "model_name": "LayoutModel",
          "model_module_version": "1.2.0",
          "state": {
            "_model_module": "@jupyter-widgets/base",
            "_model_module_version": "1.2.0",
            "_model_name": "LayoutModel",
            "_view_count": null,
            "_view_module": "@jupyter-widgets/base",
            "_view_module_version": "1.2.0",
            "_view_name": "LayoutView",
            "align_content": null,
            "align_items": null,
            "align_self": null,
            "border": null,
            "bottom": null,
            "display": null,
            "flex": null,
            "flex_flow": null,
            "grid_area": null,
            "grid_auto_columns": null,
            "grid_auto_flow": null,
            "grid_auto_rows": null,
            "grid_column": null,
            "grid_gap": null,
            "grid_row": null,
            "grid_template_areas": null,
            "grid_template_columns": null,
            "grid_template_rows": null,
            "height": null,
            "justify_content": null,
            "justify_items": null,
            "left": null,
            "margin": null,
            "max_height": null,
            "max_width": null,
            "min_height": null,
            "min_width": null,
            "object_fit": null,
            "object_position": null,
            "order": null,
            "overflow": null,
            "overflow_x": null,
            "overflow_y": null,
            "padding": null,
            "right": null,
            "top": null,
            "visibility": null,
            "width": null
          }
        },
        "2ed0fc8bf013430885610e6680fdc044": {
          "model_module": "@jupyter-widgets/base",
          "model_name": "LayoutModel",
          "model_module_version": "1.2.0",
          "state": {
            "_model_module": "@jupyter-widgets/base",
            "_model_module_version": "1.2.0",
            "_model_name": "LayoutModel",
            "_view_count": null,
            "_view_module": "@jupyter-widgets/base",
            "_view_module_version": "1.2.0",
            "_view_name": "LayoutView",
            "align_content": null,
            "align_items": null,
            "align_self": null,
            "border": null,
            "bottom": null,
            "display": null,
            "flex": null,
            "flex_flow": null,
            "grid_area": null,
            "grid_auto_columns": null,
            "grid_auto_flow": null,
            "grid_auto_rows": null,
            "grid_column": null,
            "grid_gap": null,
            "grid_row": null,
            "grid_template_areas": null,
            "grid_template_columns": null,
            "grid_template_rows": null,
            "height": null,
            "justify_content": null,
            "justify_items": null,
            "left": null,
            "margin": null,
            "max_height": null,
            "max_width": null,
            "min_height": null,
            "min_width": null,
            "object_fit": null,
            "object_position": null,
            "order": null,
            "overflow": null,
            "overflow_x": null,
            "overflow_y": null,
            "padding": null,
            "right": null,
            "top": null,
            "visibility": null,
            "width": null
          }
        },
        "5a71ac019b9445e1aa7ddac3c333c0a0": {
          "model_module": "@jupyter-widgets/controls",
          "model_name": "DescriptionStyleModel",
          "model_module_version": "1.5.0",
          "state": {
            "_model_module": "@jupyter-widgets/controls",
            "_model_module_version": "1.5.0",
            "_model_name": "DescriptionStyleModel",
            "_view_count": null,
            "_view_module": "@jupyter-widgets/base",
            "_view_module_version": "1.2.0",
            "_view_name": "StyleView",
            "description_width": ""
          }
        },
        "084cc4581f9647b0b3777d1437bbbb35": {
          "model_module": "@jupyter-widgets/base",
          "model_name": "LayoutModel",
          "model_module_version": "1.2.0",
          "state": {
            "_model_module": "@jupyter-widgets/base",
            "_model_module_version": "1.2.0",
            "_model_name": "LayoutModel",
            "_view_count": null,
            "_view_module": "@jupyter-widgets/base",
            "_view_module_version": "1.2.0",
            "_view_name": "LayoutView",
            "align_content": null,
            "align_items": null,
            "align_self": null,
            "border": null,
            "bottom": null,
            "display": null,
            "flex": null,
            "flex_flow": null,
            "grid_area": null,
            "grid_auto_columns": null,
            "grid_auto_flow": null,
            "grid_auto_rows": null,
            "grid_column": null,
            "grid_gap": null,
            "grid_row": null,
            "grid_template_areas": null,
            "grid_template_columns": null,
            "grid_template_rows": null,
            "height": null,
            "justify_content": null,
            "justify_items": null,
            "left": null,
            "margin": null,
            "max_height": null,
            "max_width": null,
            "min_height": null,
            "min_width": null,
            "object_fit": null,
            "object_position": null,
            "order": null,
            "overflow": null,
            "overflow_x": null,
            "overflow_y": null,
            "padding": null,
            "right": null,
            "top": null,
            "visibility": null,
            "width": null
          }
        },
        "cbb282ee67384b419ee46202950fa08b": {
          "model_module": "@jupyter-widgets/controls",
          "model_name": "ProgressStyleModel",
          "model_module_version": "1.5.0",
          "state": {
            "_model_module": "@jupyter-widgets/controls",
            "_model_module_version": "1.5.0",
            "_model_name": "ProgressStyleModel",
            "_view_count": null,
            "_view_module": "@jupyter-widgets/base",
            "_view_module_version": "1.2.0",
            "_view_name": "StyleView",
            "bar_color": null,
            "description_width": ""
          }
        },
        "9c7a920791d24699b02b406d6fcc6707": {
          "model_module": "@jupyter-widgets/base",
          "model_name": "LayoutModel",
          "model_module_version": "1.2.0",
          "state": {
            "_model_module": "@jupyter-widgets/base",
            "_model_module_version": "1.2.0",
            "_model_name": "LayoutModel",
            "_view_count": null,
            "_view_module": "@jupyter-widgets/base",
            "_view_module_version": "1.2.0",
            "_view_name": "LayoutView",
            "align_content": null,
            "align_items": null,
            "align_self": null,
            "border": null,
            "bottom": null,
            "display": null,
            "flex": null,
            "flex_flow": null,
            "grid_area": null,
            "grid_auto_columns": null,
            "grid_auto_flow": null,
            "grid_auto_rows": null,
            "grid_column": null,
            "grid_gap": null,
            "grid_row": null,
            "grid_template_areas": null,
            "grid_template_columns": null,
            "grid_template_rows": null,
            "height": null,
            "justify_content": null,
            "justify_items": null,
            "left": null,
            "margin": null,
            "max_height": null,
            "max_width": null,
            "min_height": null,
            "min_width": null,
            "object_fit": null,
            "object_position": null,
            "order": null,
            "overflow": null,
            "overflow_x": null,
            "overflow_y": null,
            "padding": null,
            "right": null,
            "top": null,
            "visibility": null,
            "width": null
          }
        },
        "09f9da50da8840e2b233968a25cd88c7": {
          "model_module": "@jupyter-widgets/controls",
          "model_name": "DescriptionStyleModel",
          "model_module_version": "1.5.0",
          "state": {
            "_model_module": "@jupyter-widgets/controls",
            "_model_module_version": "1.5.0",
            "_model_name": "DescriptionStyleModel",
            "_view_count": null,
            "_view_module": "@jupyter-widgets/base",
            "_view_module_version": "1.2.0",
            "_view_name": "StyleView",
            "description_width": ""
          }
        }
      }
    }
  },
  "cells": [
    {
      "cell_type": "markdown",
      "metadata": {
        "id": "view-in-github",
        "colab_type": "text"
      },
      "source": [
        "<a href=\"https://colab.research.google.com/github/ItzWarLockOp/Google-Colab-Scriptz/blob/main/Torrent2Gdrive.ipynb\" target=\"_parent\"><img src=\"https://colab.research.google.com/assets/colab-badge.svg\" alt=\"Open In Colab\"/></a>"
      ]
    },
    {
      "cell_type": "markdown",
      "metadata": {
        "id": "aQuWDmfm9YOi"
      },
      "source": [
        "\n",
        "<center> <img src=\"https://i.ibb.co/5GDWzfV/Picsart-23-04-29-15-39-46-742.png\" height=40px class=\"icon\" alt=\"icon\">\n",
        "\n",
        "# <b><center> Torrent to Gdrive"
      ]
    },
    {
      "cell_type": "markdown",
      "source": [
        "___________________________________________"
      ],
      "metadata": {
        "id": "Kmog-Z3fk0Ii"
      }
    },
    {
      "cell_type": "markdown",
      "source": [
        "# <b> <center> Mount Gdrive   <img src=\"https://kstatic.googleusercontent.com/files/e20dbc1db7b6eab22fb2d07df8043f8a74b301dbb8c176e6a1992b2dc229c5ae94b5c260cf549c41712fa40b7e639166c6a8461303a27c2a3b9c55b8ca155ec3\" class=\"icon\" height=\"20px\" alt=\"Icon\"> \n",
        "# <b> <center> + \n",
        "# <b> <Center> Install <img src=\"https://www.libtorrent.org/img/logo-color-text.png\" height=\"20px\" class=\"icon\" alt=\"Icon\">"
      ],
      "metadata": {
        "id": "nr8oqGR8ixgy"
      }
    },
    {
      "cell_type": "code",
      "source": [
        "#@title <b>↓↓ Run the Following Cell\n",
        " \n",
        "from google.colab import drive\n",
        "drive.mount(\"/content/drive\")\n",
        "\n",
        "import IPython.display as display\n",
        "!pip install --quiet --disable-pip-version-check libtorrent\n",
        "display.display(display.Markdown(\"### libtorrent installation complete.\"))\n",
        "display.clear_output(wait=True)"
      ],
      "metadata": {
        "id": "CUQ0Slkn0Wr4",
        "cellView": "form"
      },
      "execution_count": null,
      "outputs": []
    },
    {
      "cell_type": "markdown",
      "source": [
        "___________________________________________"
      ],
      "metadata": {
        "id": "E7UL4Ddak81S"
      }
    },
    {
      "cell_type": "markdown",
      "source": [
        "#<b> Enter Path📁 and Magnet🧲"
      ],
      "metadata": {
        "id": "Hl1VON_ahQF1"
      }
    },
    {
      "cell_type": "code",
      "source": [
        "import warnings\n",
        "warnings.filterwarnings(\"ignore\", category=DeprecationWarning)\n",
        "\n",
        "import libtorrent as lt\n",
        "import time\n",
        "from tqdm.auto import tqdm\n",
        "\n",
        "\n",
        "ses = lt.session()\n",
        "ses.listen_on(6881, 6891)\n",
        "downloads = []\n",
        "\n",
        "download_path = \"/content/drive/MyDrive\" #@param {type:\"string\"}\n",
        "\n",
        "params = {\n",
        "    \"save_path\": download_path,\n",
        "    \"storage_mode\": lt.storage_mode_t(2)\n",
        "}\n",
        "\n",
        "link = \"magnet:?xt=urn:btih:6E7RHPA\" #@param {type:\"string\"}\n",
        "\n",
        "if \"magnet:\" in link:\n",
        "    handle = lt.add_magnet_uri(ses, link, params)\n",
        "else:\n",
        "    params[\"url\"] = link\n",
        "    handle = ses.add_torrent(params)\n",
        "\n",
        "print(\"Downloading metadata...\")\n",
        "\n",
        "while not handle.has_metadata():\n",
        "    time.sleep(1)\n",
        "\n",
        "print(\"Starting\", handle.name())\n",
        "\n",
        "with tqdm(total=handle.status().total_wanted, unit='B', unit_scale=True, desc=handle.name()) as pbar:\n",
        "    while handle.status().state != lt.torrent_status.seeding:\n",
        "        s = handle.status()\n",
        "        state_str = ['queued', 'checking', 'downloading metadata', \\\n",
        "                     'downloading', 'finished', 'seeding', 'allocating']\n",
        "        pbar.set_postfix({'State': state_str[s.state], 'Seeding': s.num_complete, 'Leeching': s.num_incomplete})\n",
        "        downloaded = s.total_wanted_done\n",
        "        pbar.update(downloaded - pbar.n)\n",
        "        pbar.set_description(f\"{handle.name()} - {s.download_rate/1000:.1f} KB/s - {s.progress*100:.2f}%\")\n",
        "        time.sleep(1)\n",
        "\n",
        "print(\"Download Completed!\")"
      ],
      "metadata": {
        "id": "5zcF9bee6ZG8",
        "colab": {
          "base_uri": "https://localhost:8080/",
          "height": 261,
          "referenced_widgets": [
            "1df2cd637306415489719215d7075ee2",
            "517f201b417441198503caa95aea5330",
            "c171e5300c794cefa02fae306e143530",
            "c7f031bddda84fd5b0a5415e054c94d7",
            "94f9523426e94e73808f844eb9b70c04",
            "2ed0fc8bf013430885610e6680fdc044",
            "5a71ac019b9445e1aa7ddac3c333c0a0",
            "084cc4581f9647b0b3777d1437bbbb35",
            "cbb282ee67384b419ee46202950fa08b",
            "9c7a920791d24699b02b406d6fcc6707",
            "09f9da50da8840e2b233968a25cd88c7"
          ]
        },
        "cellView": "form",
        "outputId": "7eeccc3d-3bd7-4584-9867-bfaf4d76f2d5"
      },
      "execution_count": null,
      "outputs": [
        {
          "output_type": "stream",
          "name": "stdout",
          "text": [
            "Downloading metadata...\n",
            "Starting Peter Pan Wendy (2023) [720p] [WEBRip] [YTS.MX]\n"
          ]
        },
        {
          "output_type": "display_data",
          "data": {
            "text/plain": [
              "Peter Pan Wendy (2023) [720p] [WEBRip] [YTS.MX]:   0%|          | 0.00/998M [00:00<?, ?B/s]"
            ],
            "application/vnd.jupyter.widget-view+json": {
              "version_major": 2,
              "version_minor": 0,
              "model_id": "1df2cd637306415489719215d7075ee2"
            }
          },
          "metadata": {}
        },
        {
          "output_type": "stream",
          "name": "stdout",
          "text": [
            "Download Completed!\n"
          ]
        }
      ]
    }
  ]
}