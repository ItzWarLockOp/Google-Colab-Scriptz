{
  "nbformat": 4,
  "nbformat_minor": 0,
  "metadata": {
    "colab": {
      "provenance": [],
      "include_colab_link": true
    },
    "kernelspec": {
      "name": "python3",
      "display_name": "Python 3"
    }
  },
  "cells": [
    {
      "cell_type": "markdown",
      "metadata": {
        "id": "view-in-github",
        "colab_type": "text"
      },
      "source": [
        "<a href=\"https://colab.research.google.com/github/ItzWarLockOp/Google-Colab-Scriptz/blob/main/Torrent2Gdrive.ipynb\" target=\"_parent\"><img src=\"https://colab.research.google.com/assets/colab-badge.svg\" alt=\"Open In Colab\"/></a>"
      ]
    },
    {
      "cell_type": "markdown",
      "metadata": {
        "id": "aQuWDmfm9YOi"
      },
      "source": [
        "\n",
        "<center> <img src=\"https://i.ibb.co/5GDWzfV/Picsart-23-04-29-15-39-46-742.png\" height=40px class=\"icon\" alt=\"icon\">\n",
        "\n",
        "# <b><center> Torrent to Gdrive"
      ]
    },
    {
      "cell_type": "markdown",
      "source": [
        "___________________________________________"
      ],
      "metadata": {
        "id": "Kmog-Z3fk0Ii"
      }
    },
    {
      "cell_type": "markdown",
      "source": [
        "# <b> <center> Mount Gdrive   <img src=\"https://kstatic.googleusercontent.com/files/e20dbc1db7b6eab22fb2d07df8043f8a74b301dbb8c176e6a1992b2dc229c5ae94b5c260cf549c41712fa40b7e639166c6a8461303a27c2a3b9c55b8ca155ec3\" class=\"icon\" height=\"20px\" alt=\"Icon\"> \n",
        "# <b> <center> + \n",
        "# <b> <Center> Install <img src=\"https://www.libtorrent.org/img/logo-color-text.png\" height=\"20px\" class=\"icon\" alt=\"Icon\">"
      ],
      "metadata": {
        "id": "nr8oqGR8ixgy"
      }
    },
    {
      "cell_type": "code",
      "source": [
        "#@title <b>↓↓ Run the Following Cell\n",
        " \n",
        "from google.colab import drive\n",
        "drive.mount(\"/content/drive\")\n",
        "\n",
        "import IPython.display as display\n",
        "!pip install --quiet --disable-pip-version-check libtorrent\n",
        "display.display(display.Markdown(\"### libtorrent installation sucessful!\"))\n",
        "display.clear_output(wait=True)"
      ],
      "metadata": {
        "id": "CUQ0Slkn0Wr4",
        "cellView": "form"
      },
      "execution_count": null,
      "outputs": []
    },
    {
      "cell_type": "markdown",
      "source": [
        "___________________________________________"
      ],
      "metadata": {
        "id": "E7UL4Ddak81S"
      }
    },
    {
      "cell_type": "markdown",
      "source": [
        "#<b><center> Enter Path📁 \n",
        "#<b><center>&\n",
        "#<b><center>Link or Magnet🧲"
      ],
      "metadata": {
        "id": "Hl1VON_ahQF1"
      }
    },
    {
      "cell_type": "code",
      "source": [
        "\n",
        "import warnings\n",
        "warnings.filterwarnings(\"ignore\", category=DeprecationWarning)\n",
        "\n",
        "import libtorrent as lt\n",
        "import time\n",
        "from tqdm.auto import tqdm\n",
        "import requests\n",
        "import tempfile\n",
        "import os\n",
        "\n",
        "ses = lt.session()\n",
        "ses.listen_on(6881, 6891)\n",
        "ses.start_dht()  # Enable DHT\n",
        "ses.set_max_connections(100)  # Set connection limit to 100\n",
        "\n",
        "downloads = []\n",
        "\n",
        "download_path = \"/content/X\"  #@param {type:\"string\"}\n",
        "params = {\n",
        "    \"save_path\": download_path,\n",
        "    \"storage_mode\": lt.storage_mode_t(2)\n",
        "}\n",
        "\n",
        "link = \"magnet:?xt=urn:enteryourmagnethere\" #@param {type:\"string\"}\n",
        "\n",
        "if \"magnet:\" in link:\n",
        "    handle = lt.add_magnet_uri(ses, link, params)\n",
        "else:\n",
        "    # Download the .torrent file from the URL\n",
        "    response = requests.get(link)\n",
        "    temp_file_path = \"/content/temp.torrent\"  # Set the temporary file path in Colab\n",
        "    with open(temp_file_path, 'wb') as temp_file:\n",
        "        temp_file.write(response.content)\n",
        "    with open(temp_file_path, 'rb') as file:\n",
        "        data = file.read()\n",
        "        info = lt.torrent_info(lt.bdecode(data))\n",
        "    handle = lt.add_magnet_uri(ses, lt.make_magnet_uri(info), params)\n",
        "    os.remove(temp_file_path)\n",
        "\n",
        "print(\"Downloading metadata...\")\n",
        "\n",
        "while not handle.has_metadata():\n",
        "    time.sleep(1)\n",
        "\n",
        "print(\"Starting\", handle.name())\n",
        "\n",
        "# Get initial peer list\n",
        "peers = handle.get_peer_info()\n",
        "\n",
        "with tqdm(total=handle.status().total_wanted, unit='B', unit_scale=True, desc=handle.name()) as pbar:\n",
        "    while handle.status().state != lt.torrent_status.seeding:\n",
        "        s = handle.status()\n",
        "        state_str = ['queued', 'checking', 'downloading metadata',\n",
        "                     'downloading', 'finished', 'seeding', 'allocating']\n",
        "        pbar.set_postfix({'State': state_str[s.state], 'Seeding': s.num_complete, 'Leeching': s.num_incomplete})\n",
        "        downloaded = s.total_wanted_done\n",
        "        pbar.update(downloaded - pbar.n)\n",
        "        pbar.set_description(f\"{handle.name()} - {s.download_rate/1000:.1f} KB/s - {s.progress*100:.2f}%\")\n",
        "\n",
        "        # Check and switch to a seeder with higher download speed\n",
        "        max_speed = 0\n",
        "        max_speed_peer = None\n",
        "        for peer in peers:\n",
        "            download_rate = (peer.total_download - peer.total_upload) / (time.time() - peer.last_active)\n",
        "            if download_rate > max_speed:\n",
        "                max_speed = download_rate\n",
        "                max_speed_peer = peer\n",
        "\n",
        "        if max_speed_peer:\n",
        "            endpoint = max_speed_peer.ip\n",
        "            handle.connect_peer(endpoint)\n",
        "\n",
        "        time.sleep(1)\n",
        "\n",
        "        # Update peer list\n",
        "        peers = handle.get_peer_info()\n",
        "\n",
        "print(\"Download Completed!\")"
      ],
      "metadata": {
        "id": "5zcF9bee6ZG8",
        "cellView": "form"
      },
      "execution_count": null,
      "outputs": []
    }
  ]
}