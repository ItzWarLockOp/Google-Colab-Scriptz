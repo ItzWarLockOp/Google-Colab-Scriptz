{
  "cells": [
    {
      "cell_type": "markdown",
      "metadata": {
        "id": "view-in-github",
        "colab_type": "text"
      },
      "source": [
        "<a href=\"https://colab.research.google.com/github/ItzWarLockOp/Google-Colab-Scriptz/blob/main/Sync%20Multiple%20Drives%20at%20Once.ipynb\" target=\"_parent\"><img src=\"https://colab.research.google.com/assets/colab-badge.svg\" alt=\"Open In Colab\"/></a>"
      ]
    },
    {
      "cell_type": "markdown",
      "source": [
        "## <center><img src='https://raw.githubusercontent.com/ItzWarLockOp/Google-Colab-Scriptz/main/png/IMG_20230604_021032.png' height=\"83\" alt=\"SyncMulti-Drive\"/>"
      ],
      "metadata": {
        "id": "NdG-Oi_S_iIJ"
      }
    },
    {
      "cell_type": "markdown",
      "source": [
        "#<h4> <b>[Step : 1️⃣]"
      ],
      "metadata": {
        "id": "VplNPh9FOJ7q"
      }
    },
    {
      "cell_type": "markdown",
      "source": [
        "#<h3><b><font color='orange'>📲Install Rclone & Dependencies 📚"
      ],
      "metadata": {
        "id": "qGea2vSVNT2J"
      }
    },
    {
      "cell_type": "code",
      "execution_count": null,
      "metadata": {
        "cellView": "form",
        "id": "4Ml07FYYDl3R"
      },
      "outputs": [],
      "source": [
        "#@title <b>⬅️Run this cell to Install Rclone📲\n",
        "\n",
        "from sys import exit as end\n",
        "from pathlib import Path\n",
        "from requests import get as get_url\n",
        "from google.colab import output\n",
        "from json import dumps as dump_json\n",
        "\n",
        "current_version = \"v5.1.0\"\n",
        "do_normal_setup = \"1\"\n",
        "\n",
        "# Check for latest version\n",
        "try:\n",
        "    print(\"Connecting to CDN...\")\n",
        "    json_data = get_url(\"https://raw.githubusercontent.com/ItzWarLockOp/Trash/main/mct.json\").json()\n",
        "    output.clear()\n",
        "    print(\"Connected with CDN.\")\n",
        "    if current_version == json_data[\"version\"]:\n",
        "        print(\"Checking current version...\")\n",
        "        print(f'Great Job! You are using the latest version: {json_data[\"version\"]}')\n",
        "    else:\n",
        "        print(\"Checking current version...\")\n",
        "        print(f'Oh-No! You are not using the latest version and missing out on important fixes & features. The latest version is {json_data[\"version\"]}. Please use the latest notebook available here:\\n{json_data[\"notebookLink\"]}')\n",
        "except Exception as error_code:\n",
        "    end(f'Failed to connect with CDN!\\nTraceback:\\n{error_code}')\n",
        "\n",
        "# Save json data locally\n",
        "with open('mct.json', 'w+') as mct_json:\n",
        "    mct_json.write(dump_json(json_data))\n",
        "\n",
        "\n",
        "# User Input\n",
        "INSTALL_RCLONE_FLAVOR = \"\"\n",
        "\n",
        "# Install rclone\n",
        "try:\n",
        "    print(\"Installing rclone...\")\n",
        "    !curl -s https://rclone.org/install.sh | sudo bash {INSTALL_RCLONE_FLAVOR} > /dev/null 2>&1\n",
        "    output.clear()\n",
        "    print(\"Rclone installation completed!\")\n",
        "except Exception as error_code:\n",
        "    print(f'Failed to install rclone!\\nTraceback:\\n{error_code}')\n",
        "\n",
        "if do_normal_setup == '1' and not Path(\"/content/setup.sh\").exists():\n",
        "    try:\n",
        "        print(\"Setting up Libraries...\")\n",
        "        get_url(json_data[\"setupFile\"])\n",
        "        !curl -s {json_data[\"setupFile\"]} | sudo bash {INSTALL_RCLONE_FLAVOR} > /dev/null 2>&1\n",
        "        !curl {json_data[\"setupFile\"]} > \"/content/setup.sh\"\n",
        "        output.clear()\n",
        "        print(\"Setup completed!\")\n",
        "    except ConnectionError:\n",
        "        print('Unable to get setup file!')\n",
        "    except Exception as error_code:\n",
        "        print(f'Setup instructions seem to have mistakes!\\nTraceback:\\n{error_code}')\n",
        "elif do_normal_setup == '1' and Path(\"/content/setup.sh\").exists():\n",
        "    output.clear()\n",
        "    print(\"Setup file exists and is already configured!\")"
      ]
    },
    {
      "cell_type": "code",
      "source": [
        "\n",
        "#@title <b>⬅️Run this cell to Install Dependencies📲\n",
        "\n",
        "\n",
        "print(\"Installing Dependencies...\", end='')\n",
        "print(\".\", end='', flush=True)\n",
        "!pip install yt-dlp > /dev/null 2>&1\n",
        "\n",
        "!pip install -q tqdm\n",
        "!pip install -q google-api-python-client google-auth google-auth-oauthlib google-auth-httplib2\n",
        "\n",
        "from google.colab import auth\n",
        "from googleapiclient.discovery import build\n",
        "\n",
        "# Authenticate and create the Drive API client\n",
        "auth.authenticate_user()\n",
        "drive_service = build('drive', 'v3')\n",
        "\n",
        "print(\"User Authenticated Successfully!\")\n",
        "\n",
        "import IPython.display as display\n",
        "!pip install --quiet --disable-pip-version-check libtorrent\n",
        "display.display(display.Markdown(\"### libtorrent installation sucessful!\"))\n",
        "display.clear_output(wait=True)\n",
        "\n",
        "print(\"Installation Finished ! ✅\")"
      ],
      "metadata": {
        "cellView": "form",
        "id": "NkyfrA9349Cj"
      },
      "execution_count": null,
      "outputs": []
    },
    {
      "cell_type": "markdown",
      "source": [
        "#<h4> <b>[Step : 2️⃣]"
      ],
      "metadata": {
        "id": "v7pd9sJ2OiGE"
      }
    },
    {
      "cell_type": "markdown",
      "source": [
        "#<center><img src=\"https://cdn.thecaduceus.eu.org/MCT/img/rclone_logo.png\" height=\"50\" alt=\"Rclone-Logo\"/></center><center><h3> <font color='lime'><b> Upload [Rclone.Conf] File</b></h3></center>"
      ],
      "metadata": {
        "id": "YGZL3rbQI8JB"
      }
    },
    {
      "cell_type": "code",
      "execution_count": null,
      "metadata": {
        "cellView": "form",
        "id": "R5Yq_Y_i-3It"
      },
      "outputs": [],
      "source": [
        "#@markdown <b>  ⬅️ Run this Cell to Initiate Upload 📲\n",
        "from google.colab import files\n",
        "from sys import exit as end\n",
        "from pathlib import Path, PurePath\n",
        "from IPython.display import clear_output\n",
        "\n",
        "UPLOAD_CONFIG_FILE = True\n",
        "\n",
        "if UPLOAD_CONFIG_FILE:\n",
        "    # Initiate Upload Request\n",
        "    print('Request: Initiate upload -> rclone.conf [file]')\n",
        "    uploaded_files = files.upload()\n",
        "    if len(uploaded_files) == 0:\n",
        "        end('File Error: No file uploaded')\n",
        "\n",
        "    uploaded_file_name = next(iter(uploaded_files))\n",
        "    if uploaded_file_name != 'rclone.conf':\n",
        "        end('File Error: File is not rclone.conf')\n",
        "\n",
        "    file_content = uploaded_files[uploaded_file_name]\n",
        "    rclone_conf_path = Path(\"/root/.config/rclone/\")\n",
        "    rclone_conf_path.mkdir(parents=True, exist_ok=True)\n",
        "    rclone_conf_file_path = rclone_conf_path / \"rclone.conf\"\n",
        "    with open(rclone_conf_file_path, 'wb') as f:\n",
        "        f.write(file_content)\n",
        "\n",
        "    print('Rclone.conf uploaded successfully')\n",
        "\n",
        "# Clear output and show last print message\n",
        "clear_output(wait=True)\n",
        "print('Rclone config File uploaded!')"
      ]
    },
    {
      "cell_type": "markdown",
      "source": [
        "#<h4> <b>[Step : 3️⃣]"
      ],
      "metadata": {
        "id": "Ec6qpOv8PELx"
      }
    },
    {
      "cell_type": "markdown",
      "source": [
        "#<center> <h3> <font color='sky blue'> <b>Mount & Unmount All Remotes 📁"
      ],
      "metadata": {
        "id": "afeSFSezHv2w"
      }
    },
    {
      "cell_type": "code",
      "execution_count": null,
      "metadata": {
        "id": "cjQjz1txBCin",
        "cellView": "form"
      },
      "outputs": [],
      "source": [
        "\n",
        "from sys import exit as end\n",
        "from os import makedirs, system\n",
        "from pathlib import Path, PurePath\n",
        "from re import findall, M\n",
        "\n",
        "if not Path(\"/root/.config/rclone/rclone.conf\").exists():\n",
        "    end('Not Found: rclone.conf [file]')\n",
        "\n",
        "content = open(\"/root/.config/rclone/rclone.conf\").read()\n",
        "avCon = findall(r\"^\\[(.+)\\]$\", content, M)\n",
        "\n",
        "print(\"Available Rclone Remotes:\", end=\" \")\n",
        "print(*avCon, sep=\", \")\n",
        "\n",
        "if len(avCon) == 0:\n",
        "    end('No remotes found in rclone.conf [file]')\n",
        "\n",
        "Mount_Point_Base = \"/content/drives\"\n",
        "Cache_dir = \"/content/temp/Rclone\"\n",
        "\n",
        "Action = \"mount\"  #@param [\"mount\", \"unmount\"] {type:\"string\"}\n",
        "\n",
        "if Action not in [\"mount\", \"unmount\"]:\n",
        "    end(\"Input Error: Value should be 'mount' or 'unmount'.\")\n",
        "\n",
        "if Action == \"mount\":\n",
        "    for remote in avCon:\n",
        "        Mount_Point = f\"{Mount_Point_Base}/{remote}\"\n",
        "\n",
        "        makedirs(Mount_Point, exist_ok=True)\n",
        "        mount_command = (\n",
        "            f\"rclone mount {remote}: {Mount_Point} --user-agent 'Mozilla' \"\n",
        "            \"--buffer-size 256M --transfers 10 --vfs-cache-mode minimal \"\n",
        "            \"--vfs-read-chunk-size 500M --vfs-cache-max-size 50G \"\n",
        "            \"--vfs-cache-max-age 0h0m1s --vfs-cache-poll-interval 0m1s \"\n",
        "            f\"--cache-dir {Cache_dir} --allow-other --daemon\"\n",
        "        )\n",
        "        system(mount_command)\n",
        "\n",
        "        if Path(Mount_Point).exists():\n",
        "            print(f'{remote} mounted: {Mount_Point}')\n",
        "        else:\n",
        "            print(f\"Mount Error: Unable to mount {remote} at {Mount_Point}\")\n",
        "elif Action == \"unmount\":\n",
        "    for remote in avCon:\n",
        "        Mount_Point = f\"{Mount_Point_Base}/{remote}\"\n",
        "        unmount_command = f\"umount -l {Mount_Point}\"  # Use \"umount\" instead of \"fusermount\"\n",
        "        if system(unmount_command) == 0:\n",
        "            print(f'{remote} unmounted')\n",
        "        else:\n",
        "            print(f\"Unable to unmount {remote}\")"
      ]
    },
    {
      "cell_type": "markdown",
      "source": [
        "#<h1><center> <b> <font color= 'pink'>★Multi-functions★"
      ],
      "metadata": {
        "id": "iC-QnQiwPLb9"
      }
    },
    {
      "cell_type": "markdown",
      "source": [
        "<h1><center> <b>↑↓Direct Link Downloader↑↓"
      ],
      "metadata": {
        "id": "XlYYylm5lk0d"
      }
    },
    {
      "cell_type": "code",
      "execution_count": null,
      "metadata": {
        "id": "e-CsE6QpIoPv",
        "cellView": "form"
      },
      "outputs": [],
      "source": [
        "#@title <center> <b><h5> • Please Make Sure To Fill All The Info • </b></h5></center>\n",
        "#@markdown ------\n",
        "\n",
        "import os\n",
        "import requests\n",
        "from tqdm import tqdm\n",
        "import math\n",
        "\n",
        "# Get user input for the download link and path\n",
        "DownloadLink = \"https://DirectDownloadLink.com/Video.mkv\" #@param {type:\"string\"}\n",
        "Path = \"/content/drive/MyDrive/\" #@param {type:\"string\"}\n",
        "\n",
        "# Set the desired new name for the file\n",
        "NAMEwithEXTENSION = \"Video.mkv\" #@param {type:\"string\"}\n",
        "\n",
        "#@markdown ------\n",
        "\n",
        "\n",
        "# Print the file name and save path\n",
        "print(\"File Name:\", NAMEwithEXTENSION)\n",
        "print(\"Save Path:\", os.path.join(Path, NAMEwithEXTENSION))\n",
        "print()\n",
        "\n",
        "# Check if NAMEwithEXTENSION is empty\n",
        "if not NAMEwithEXTENSION:\n",
        "    print(\"Please enter a name with an appropriate extension.\")\n",
        "    Download = False\n",
        "else:\n",
        "    # Check if extension is present\n",
        "    if '.' not in NAMEwithEXTENSION:\n",
        "        print(\"Please enter an appropriate extension to download the file.\")\n",
        "        Download = False\n",
        "    else:\n",
        "        Download = True\n",
        "\n",
        "if Download:\n",
        "    # Check if the file path already exists\n",
        "    file_path = os.path.join(Path, NAMEwithEXTENSION)\n",
        "    file_exists = os.path.exists(file_path)\n",
        "    if file_exists:\n",
        "        print(\"A file with the same name already exists in the specified path. Download process aborted.\")\n",
        "        Download = False\n",
        "\n",
        "if Download:\n",
        "    # Download the file and save it to the specified path with the new filename\n",
        "    response = requests.get(DownloadLink, stream=True)\n",
        "    total_size = int(response.headers.get(\"content-length\", 0))\n",
        "\n",
        "    # Convert the total size to a human-readable format\n",
        "    size_units = [\"B\", \"KB\", \"MB\", \"GB\", \"TB\"]\n",
        "    size_index = int(math.floor(math.log(total_size, 1024)))\n",
        "    total_size_hr = f\"{round(total_size / (1024 ** size_index), 2)} {size_units[size_index]}\"\n",
        "\n",
        "    # Print the file size\n",
        "    print(\"File Size:\", total_size_hr)\n",
        "    print()\n",
        "\n",
        "    # Create the save directory if it doesn't exist\n",
        "    os.makedirs(Path, exist_ok=True)\n",
        "\n",
        "    # Download the file with progress bar\n",
        "    with open(file_path, \"wb\") as file:\n",
        "        progress_bar = tqdm(total=total_size, unit=\"B\", unit_scale=True, ncols=80, bar_format='{l_bar}{bar}| {n_fmt}/{total_fmt}')\n",
        "        for data in response.iter_content(chunk_size=1024):\n",
        "            file.write(data)\n",
        "            progress_bar.update(len(data))\n",
        "        progress_bar.close()\n",
        "\n",
        "    # Add an extra line space\n",
        "    print(\"\\n\")\n",
        "\n",
        "    # Print completion message\n",
        "    print(\"📲 File Downloaded Successfully! 🎉\")"
      ]
    },
    {
      "cell_type": "markdown",
      "source": [
        "___________________________________________"
      ],
      "metadata": {
        "id": "VwpmyEARmC1e"
      }
    },
    {
      "cell_type": "markdown",
      "source": [
        "<h1><center> <b> Copy Folders 📂 Between Drive2Drive"
      ],
      "metadata": {
        "id": "q3GHCz1omTs1"
      }
    },
    {
      "cell_type": "code",
      "source": [
        "\n",
        "from tqdm import tqdm\n",
        "\n",
        "def copy_shared_folder_to_target_folder(shared_folder_path, destination_path):\n",
        "    # Get the shared folder ID from the path\n",
        "    query = f\"name='{shared_folder_path.split('/')[-1]}' and mimeType='application/vnd.google-apps.folder'\"\n",
        "    shared_folder = drive_service.files().list(q=query, fields='files(id)').execute()\n",
        "    shared_folder_id = shared_folder['files'][0]['id']\n",
        "    shared_folder_name = shared_folder_path.split('/')[-1]\n",
        "\n",
        "    # Get the destination folder ID from the path\n",
        "    query = f\"name='{destination_path.split('/')[-1]}' and mimeType='application/vnd.google-apps.folder'\"\n",
        "    destination_folder = drive_service.files().list(q=query, fields='files(id)').execute()\n",
        "    destination_folder_id = destination_folder['files'][0]['id']\n",
        "\n",
        "    # Create a folder with the same name in the destination folder\n",
        "    folder_metadata = {\n",
        "        'name': shared_folder_name,\n",
        "        'parents': [destination_folder_id],\n",
        "        'mimeType': 'application/vnd.google-apps.folder'\n",
        "    }\n",
        "    new_folder = drive_service.files().create(body=folder_metadata, fields='id').execute()\n",
        "    new_folder_id = new_folder.get('id')\n",
        "\n",
        "    # Copy the contents of the shared folder to the new folder\n",
        "    query = f\"'{shared_folder_id}' in parents\"\n",
        "    shared_folder_contents = drive_service.files().list(q=query, fields='files(id)').execute()\n",
        "    num_files = len(shared_folder_contents.get('files', []))\n",
        "\n",
        "    with tqdm(total=num_files, desc='Copying files') as pbar:\n",
        "        for file in shared_folder_contents.get('files', []):\n",
        "            file_id = file.get('id')\n",
        "            drive_service.files().copy(fileId=file_id, body={'parents': [new_folder_id]}).execute()\n",
        "            pbar.update(1)\n",
        "\n",
        "    print('\\nShared folder copied successfully!🎉')\n",
        "\n",
        "shared_folder_path = '/content/drive/MyDrive/Shared Folder' #@param {type:\"string\"}\n",
        "destination_path = '/content/drive/MyDrive/Destination' #@param {type:\"string\"}\n",
        "\n",
        "copy_shared_folder_to_target_folder(shared_folder_path, destination_path)"
      ],
      "metadata": {
        "cellView": "form",
        "id": "c2mHXQNg7A3m"
      },
      "execution_count": null,
      "outputs": []
    },
    {
      "cell_type": "markdown",
      "source": [
        "___________________________________________"
      ],
      "metadata": {
        "id": "qnNrgw9v7PJu"
      }
    },
    {
      "cell_type": "markdown",
      "source": [
        "<h1><center> <b> 🧲Libtorrent"
      ],
      "metadata": {
        "id": "_i6BGLaP7U08"
      }
    },
    {
      "cell_type": "code",
      "source": [
        "\n",
        "import warnings\n",
        "warnings.filterwarnings(\"ignore\", category=DeprecationWarning)\n",
        "\n",
        "import libtorrent as lt\n",
        "import time\n",
        "from tqdm.auto import tqdm\n",
        "import requests\n",
        "import tempfile\n",
        "import os\n",
        "\n",
        "ses = lt.session()\n",
        "ses.listen_on(6881, 6891)\n",
        "ses.start_dht()  # Enable DHT\n",
        "ses.set_max_connections(100)  # Set connection limit to 100\n",
        "\n",
        "downloads = []\n",
        "\n",
        "download_path = \"/content/X\"  #@param {type:\"string\"}\n",
        "params = {\n",
        "    \"save_path\": download_path,\n",
        "    \"storage_mode\": lt.storage_mode_t(2)\n",
        "}\n",
        "\n",
        "link = \"magnet:?xt=urn:enteryourmagnethere\" #@param {type:\"string\"}\n",
        "\n",
        "if \"magnet:\" in link:\n",
        "    handle = lt.add_magnet_uri(ses, link, params)\n",
        "else:\n",
        "    # Download the .torrent file from the URL\n",
        "    response = requests.get(link)\n",
        "    temp_file_path = \"/content/temp.torrent\"  # Set the temporary file path in Colab\n",
        "    with open(temp_file_path, 'wb') as temp_file:\n",
        "        temp_file.write(response.content)\n",
        "    with open(temp_file_path, 'rb') as file:\n",
        "        data = file.read()\n",
        "        info = lt.torrent_info(lt.bdecode(data))\n",
        "    handle = lt.add_magnet_uri(ses, lt.make_magnet_uri(info), params)\n",
        "    os.remove(temp_file_path)\n",
        "\n",
        "print(\"Downloading metadata...\")\n",
        "\n",
        "while not handle.has_metadata():\n",
        "    time.sleep(1)\n",
        "\n",
        "print(\"Starting\", handle.name())\n",
        "\n",
        "# Get initial peer list\n",
        "peers = handle.get_peer_info()\n",
        "\n",
        "with tqdm(total=handle.status().total_wanted, unit='B', unit_scale=True, desc=handle.name()) as pbar:\n",
        "    while handle.status().state != lt.torrent_status.seeding:\n",
        "        s = handle.status()\n",
        "        state_str = ['queued', 'checking', 'downloading metadata',\n",
        "                     'downloading', 'finished', 'seeding', 'allocating']\n",
        "        pbar.set_postfix({'State': state_str[s.state], 'Seeding': s.num_complete, 'Leeching': s.num_incomplete})\n",
        "        downloaded = s.total_wanted_done\n",
        "        pbar.update(downloaded - pbar.n)\n",
        "        pbar.set_description(f\"{handle.name()} - {s.download_rate/1000:.1f} KB/s - {s.progress*100:.2f}%\")\n",
        "\n",
        "        # Check and switch to a seeder with higher download speed\n",
        "        max_speed = 0\n",
        "        max_speed_peer = None\n",
        "        for peer in peers:\n",
        "            download_rate = (peer.total_download - peer.total_upload) / (time.time() - peer.last_active)\n",
        "            if download_rate > max_speed:\n",
        "                max_speed = download_rate\n",
        "                max_speed_peer = peer\n",
        "\n",
        "        if max_speed_peer:\n",
        "            endpoint = max_speed_peer.ip\n",
        "            handle.connect_peer(endpoint)\n",
        "\n",
        "        time.sleep(1)\n",
        "\n",
        "        # Update peer list\n",
        "        peers = handle.get_peer_info()\n",
        "\n",
        "print(\"Download Completed!\")"
      ],
      "metadata": {
        "cellView": "form",
        "id": "U7NZqsBq7ylV"
      },
      "execution_count": null,
      "outputs": []
    },
    {
      "cell_type": "markdown",
      "source": [
        "___________________________________________"
      ],
      "metadata": {
        "id": "MAWNlEma8AK5"
      }
    },
    {
      "cell_type": "markdown",
      "source": [
        "<h1><center> <b> ★M3U8★ ↑↓DOWNLOADER↑↓"
      ],
      "metadata": {
        "id": "KoEPyHiV8YWe"
      }
    },
    {
      "cell_type": "code",
      "source": [
        "\n",
        "import os\n",
        "import subprocess\n",
        "import time\n",
        "import re\n",
        "import shutil\n",
        "from IPython.display import clear_output\n",
        "\n",
        "def download_video(VideoURL, SavePath, options=None, NewName=None):\n",
        "    command = [\"yt-dlp\", VideoURL, \"-o\", SavePath]\n",
        "    if options:\n",
        "        command.extend(options)\n",
        "\n",
        "    log_file = \"/content/download.log\"\n",
        "    with open(log_file, \"w\") as f:\n",
        "        process = subprocess.Popen(command, stdout=f)\n",
        "        while process.poll() is None:\n",
        "            time.sleep(1)\n",
        "            with open(log_file, \"r\") as f_read:\n",
        "                output = f_read.read().strip()\n",
        "                progress_match = re.findall(r\"\\d+\\.\\d+%\", output)\n",
        "                if progress_match:\n",
        "                    progress = float(progress_match[-1].strip(\"%\"))\n",
        "                    clear_output(wait=True)\n",
        "                    print(f\"Progress: {progress}%\")\n",
        "        # Read any remaining output after the process finishes\n",
        "        with open(log_file, \"r\") as f_read:\n",
        "            output = f_read.read().strip()\n",
        "            progress_match = re.findall(r\"\\d+\\.\\d+%\", output)\n",
        "            if progress_match:\n",
        "                progress = float(progress_match[-1].strip(\"%\"))\n",
        "                clear_output(wait=True)\n",
        "                print(f\"Progress: {progress}%\")\n",
        "\n",
        "    # Remove the log file\n",
        "    os.remove(log_file)\n",
        "\n",
        "    # Rename the output file if a new name is provided\n",
        "    if NewName:\n",
        "        if not NewName.endswith(\".mp4\"):\n",
        "            NewName += \".mp4\"\n",
        "        renamed_output_path = os.path.join(os.path.dirname(SavePath), NewName)\n",
        "        os.rename(SavePath, renamed_output_path)\n",
        "        SavePath = renamed_output_path\n",
        "\n",
        "    # Move the output file to the provided Google Drive path\n",
        "    DownloadPath = \"/content/drive/MyDrive/\"  #@param {type:\"string\"}\n",
        "    destination_path = os.path.join(DownloadPath, os.path.basename(SavePath))\n",
        "    os.makedirs(os.path.dirname(destination_path), exist_ok=True)\n",
        "    shutil.move(SavePath, destination_path)\n",
        "    print(\"File Downloaded Successfully!🎉\")\n",
        "\n",
        "# Example usage:\n",
        "VideoURL = \"https://yourlink.com/hls=stream.m3u8\" #@param {type:\"string\"}\n",
        "output_file = \"/content/output.mp4\"\n",
        "download_options = [\"-f\", \"best\"]\n",
        "NewName = \"Video\" #@param {type:\"string\"}\n",
        "\n",
        "download_video(VideoURL, output_file, download_options, NewName=NewName)"
      ],
      "metadata": {
        "cellView": "form",
        "id": "JtDhRfjb8EWC"
      },
      "execution_count": null,
      "outputs": []
    },
    {
      "cell_type": "markdown",
      "source": [
        "___________________________________________"
      ],
      "metadata": {
        "id": "RGdxWNh68tB4"
      }
    },
    {
      "cell_type": "markdown",
      "source": [
        "<img src='https://raw.githubusercontent.com/yt-dlp/yt-dlp/master/.github/banner.svg' height=\"83\" alt=\"Youtube-DL\"/>"
      ],
      "metadata": {
        "id": "q_5_5xY_8zrC"
      }
    },
    {
      "cell_type": "code",
      "source": [
        "#@title <b> Enter Path, Url and Quality 📡\n",
        "\n",
        "\n",
        "import yt_dlp\n",
        "import os\n",
        "\n",
        "# Set the download directory to your Google Drive\n",
        "save_path = '/content/drive/MyDrive/Youtube Videos' #@param {type:\"string\"}\n",
        "\n",
        "# Create the download directory if it doesn't exist\n",
        "if not os.path.exists(save_path):\n",
        "    os.makedirs(save_path)\n",
        "\n",
        "# Define a function to download a video\n",
        "def download_video(youtube_url, quality):\n",
        "    ydl_opts = {\n",
        "        'outtmpl': save_path + '/%(title)s.%(ext)s',\n",
        "        'format': f'bestvideo[height<={quality}][ext=mp4]+bestaudio[ext=m4a]/mp4',\n",
        "    }\n",
        "    with yt_dlp.YoutubeDL(ydl_opts) as ydl:\n",
        "        ydl.download([youtube_url])\n",
        "    print(\"Download completed!\")\n",
        "\n",
        "# Example usage: download a video and save it to your Google Drive\n",
        "youtube_url = 'https://www.youtube.com/watch?v=dQw4w9WgXcQ' #@param {type:\"string\"}\n",
        "quality = \"2160\" #@param [\"2160\",\"1440\",\"1080\",\"720\",\"480\",\"360\",\"240\",\"144\"]\n",
        "download_video(youtube_url, quality)"
      ],
      "metadata": {
        "cellView": "form",
        "id": "aWEJV6Mf89uF"
      },
      "execution_count": null,
      "outputs": []
    },
    {
      "cell_type": "markdown",
      "source": [
        "___________________________________________"
      ],
      "metadata": {
        "id": "EGqMUuIl1kjC"
      }
    },
    {
      "cell_type": "markdown",
      "source": [
        "<center><img src='https://i.ibb.co/XVzcc3B/IMG-20230603-183942.png' height=\"90\" alt=\"7zip\"/>"
      ],
      "metadata": {
        "id": "09qE6L9L1xon"
      }
    },
    {
      "cell_type": "markdown",
      "source": [
        "<h2> <b><font color ='Orange'>🔒[Archive Files or Folder]🔒"
      ],
      "metadata": {
        "id": "5ea1q9fV2By_"
      }
    },
    {
      "cell_type": "markdown",
      "source": [
        "<h3><b><center>• Enter Source Path •</h3></b>\n",
        "<h3><b><center>• Enter Archive Format •</h3></b>\n",
        "<h3><b><center>• Enter Password to Encrypt the file •</h3></b>\n",
        "<h3><b><center>• Select Compression Level •</h3></b>\n",
        "<h3><b><center>• Enter Output Path • </h3></b>\n",
        "\n",
        "Note :\n",
        "* If <b>IncludeDirectory</b> is True then All Files + Including the folder they are in will be Archived.\n",
        "\n",
        "* If <b>IncludeDirectory</b> is False the only just files inside the folder going to be archived."
      ],
      "metadata": {
        "id": "knEx4h5B2ar8"
      }
    },
    {
      "cell_type": "code",
      "source": [
        "import os\n",
        "\n",
        "sourcePath = \"/content/drive/MyDrive/Files\" #@param {type:\"string\"}\n",
        "compressType = \"zip\" #@param [\"zip\", \"7z\", \"tar\", \"gzip\", \"bzip2\", \"xz\", \"wim\"]\n",
        "includeDirectory = True #@param {type:\"boolean\"}\n",
        "Password = \"\" #@param {type:\"string\"}\n",
        "Split = \"no\" #@param [\"no\",\"5m\", \"10m\", \"100m\", \"500m\", \"1g\", \"2g\"] {allow-input: true}\n",
        "compressionLevel = \"No Compression\" #@param [\"No Compression\", \"Fastest\", \"Fast\", \"Normal\", \"Maximum\", \"Ultra\"]\n",
        "saveToSourceLocation = False #@param {type:\"boolean\"}\n",
        "\n",
        "compressionLevels = {\n",
        "    \"No Compression\": \"0\",\n",
        "    \"Fastest\": \"1\",\n",
        "    \"Fast\": \"3\",\n",
        "    \"Normal\": \"5\",\n",
        "    \"Maximum\": \"7\",\n",
        "    \"Ultra\": \"9\"\n",
        "}\n",
        "\n",
        "commandLine = \"-t\" + compressType + \" -mx=\" + compressionLevels[compressionLevel]\n",
        "\n",
        "if len(Password) > 0:\n",
        "    commandLine = commandLine + \" -p\" + '\"' + Password + '\"'\n",
        "\n",
        "if Split != \"no\":\n",
        "    commandLine = commandLine + \" -v\" + '\"' + Split + '\"'\n",
        "\n",
        "if os.path.isfile(sourcePath):\n",
        "    sourceName = os.path.splitext(os.path.basename(os.path.abspath(sourcePath)))[0]\n",
        "    sourceFolder = os.path.dirname(os.path.abspath(sourcePath))\n",
        "else:\n",
        "    sourceName = os.path.split(os.path.abspath(sourcePath))[1]\n",
        "    sourceFolder = os.path.split(os.path.abspath(sourcePath))[0]\n",
        "\n",
        "if saveToSourceLocation:\n",
        "    outputPath = sourceFolder\n",
        "else:\n",
        "    outputPath = \"/content/drive/MyDrive/\" #@param {type:\"string\"}\n",
        "\n",
        "if includeDirectory:\n",
        "    compressPath = os.path.join(outputPath, sourceName)\n",
        "else:\n",
        "    compressPath = outputPath\n",
        "\n",
        "commandLine = commandLine + ' \"' + compressPath + '\"'\n",
        "\n",
        "if includeDirectory:\n",
        "    commandLine = commandLine + ' \"' + sourcePath + '\"'\n",
        "else:\n",
        "    commandLine = commandLine + ' \"' + sourcePath + '\"/*'\n",
        "\n",
        "if compressType == \"gzip\":\n",
        "    formatFile = \"gz\"\n",
        "elif compressType == \"bzip2\":\n",
        "    formatFile = \"bz2\"\n",
        "else:\n",
        "    formatFile = compressType\n",
        "\n",
        "!7z a {commandLine}\n",
        "saveFile = compressPath + '.' + formatFile\n",
        "\n",
        "if os.path.exists(saveFile):\n",
        "    if Split != \"no\":\n",
        "        baseName = os.path.splitext(saveFile)[0]\n",
        "        splitFiles = baseName + '.z*'\n",
        "        os.rename(splitFiles, baseName + '.zip')\n",
        "        saveFile = baseName + '.zip'"
      ],
      "metadata": {
        "cellView": "form",
        "id": "a00WI5Af2Ea3"
      },
      "execution_count": null,
      "outputs": []
    },
    {
      "cell_type": "markdown",
      "source": [
        "<h2> <b><font color ='Orange'>🔓[UnArchive Files]🔓"
      ],
      "metadata": {
        "id": "nyEbrtak2OI2"
      }
    },
    {
      "cell_type": "markdown",
      "source": [
        "<h3><b><center>• Enter File Path •</h3></b>\n",
        "<h3><b><center>• Enter Password if file is Encrypted •</h3></b>\n",
        "<h3><b><center>• Enter Output Path •</h3></b>\n",
        "\n",
        "Note :\n",
        "\n",
        "* If the <b>viewfile</b> is True then Unarchive will not be proceed.\n",
        "\n",
        "* If you want to unarchive the file to same location the source exist then set <b>saveToSourceLocation</b> to True"
      ],
      "metadata": {
        "id": "ZdtAyAiJ2f-G"
      }
    },
    {
      "cell_type": "code",
      "source": [
        "import os\n",
        "\n",
        "sourceFile = \"/content/File.zip\"  # @param {type:\"string\"}\n",
        "viewFile = False  # @param {type:\"boolean\"}\n",
        "password = \"\"  # @param {type:\"string\"}\n",
        "saveToSourceLocation = False  # @param {type:\"boolean\"}\n",
        "\n",
        "\n",
        "sourceFolder = os.path.dirname(os.path.abspath(sourceFile))\n",
        "\n",
        "if viewFile is True:\n",
        "    commandLine = 'l \"' + sourceFile + '\"'\n",
        "else:\n",
        "    if saveToSourceLocation is True:\n",
        "        extractFolder = sourceFolder\n",
        "    else:\n",
        "        outputPath = \"/content/\"  # @param {type:\"string\"}\n",
        "        extractFolder = outputPath\n",
        "\n",
        "    commandLine = 'x \"' + sourceFile + '\" -o\"' + extractFolder + '\"'\n",
        "    if password:\n",
        "        commandLine += ' -p' + password\n",
        "\n",
        "    # Add auto-skip option\n",
        "    commandLine += ' -aoa'\n",
        "\n",
        "output = !7z {commandLine}"
      ],
      "metadata": {
        "cellView": "form",
        "id": "fOk1u-EHyPti"
      },
      "execution_count": null,
      "outputs": []
    },
    {
      "cell_type": "markdown",
      "source": [
        "___________________________________________"
      ],
      "metadata": {
        "id": "oo0pRBM93aBY"
      }
    },
    {
      "cell_type": "markdown",
      "source": [
        "<center><img src='https://i.ibb.co/qgbykgw/IMG-20230531-162006.png%22' height=\"90\" alt=\"Renamer\"/>"
      ],
      "metadata": {
        "id": "XlOlzKCI3i2y"
      }
    },
    {
      "cell_type": "markdown",
      "source": [
        "<h3><b><font color=\"yellow\">📲Enter Folder Path & New Name📁"
      ],
      "metadata": {
        "id": "Y0bmzP6H3zVN"
      }
    },
    {
      "cell_type": "code",
      "source": [
        "\n",
        "import os\n",
        "from tqdm import tqdm\n",
        "\n",
        "def rename_files(folder_path, new_name):\n",
        "    file_names = os.listdir(folder_path)\n",
        "    num_files = min(9999, len(file_names))\n",
        "    pbar = tqdm(total=num_files, desc='Renaming Files', unit='file', bar_format='{desc}: {percentage:.0f}% {n_fmt}/{total_fmt}')\n",
        "\n",
        "    for count, file_name in enumerate(file_names, start=1):\n",
        "        if count > num_files:\n",
        "            break\n",
        "\n",
        "        file_extension = os.path.splitext(file_name)[1]\n",
        "        new_file_name = f'{new_name} [{str(count).zfill(4)}]{file_extension}'\n",
        "\n",
        "        old_file_path = os.path.join(folder_path, file_name)\n",
        "        new_file_path = os.path.join(folder_path, new_file_name)\n",
        "\n",
        "        os.rename(old_file_path, new_file_path)\n",
        "        pbar.update(1)\n",
        "\n",
        "    pbar.close()\n",
        "\n",
        "# Example usage:\n",
        "folder_path = '/content/drive/MyDrive/X'  #@param {type:\"string\"}\n",
        "new_name = 'Images'  #@param {type:\"string\"}\n",
        "rename_files(folder_path, new_name)"
      ],
      "metadata": {
        "cellView": "form",
        "id": "XOAk_n2033KF"
      },
      "execution_count": null,
      "outputs": []
    }
  ],
  "metadata": {
    "colab": {
      "provenance": [],
      "collapsed_sections": [
        "qGea2vSVNT2J",
        "YGZL3rbQI8JB",
        "afeSFSezHv2w",
        "iC-QnQiwPLb9"
      ],
      "authorship_tag": "ABX9TyO2jngIchOizKG80mNDwjdK",
      "include_colab_link": true
    },
    "kernelspec": {
      "display_name": "Python 3",
      "name": "python3"
    },
    "language_info": {
      "name": "python"
    }
  },
  "nbformat": 4,
  "nbformat_minor": 0
}