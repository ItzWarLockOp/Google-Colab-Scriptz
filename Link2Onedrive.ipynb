{
  "cells": [
    {
      "cell_type": "markdown",
      "metadata": {
        "id": "view-in-github",
        "colab_type": "text"
      },
      "source": [
        "<a href=\"https://colab.research.google.com/github/ItzWarLockOp/Google-Colab-Scriptz/blob/main/Link2Onedrive.ipynb\" target=\"_parent\"><img src=\"https://colab.research.google.com/assets/colab-badge.svg\" alt=\"Open In Colab\"/></a>"
      ]
    },
    {
      "cell_type": "markdown",
      "source": [
        "<center><img src=\"https://i.ibb.co/f9Swky3/IMG-20230528-165007.png\" height=\"150\" alt=\"Rclone-Logo\"/></center>"
      ],
      "metadata": {
        "id": "aBBKeda5CBfA"
      }
    },
    {
      "cell_type": "markdown",
      "source": [
        "#<h4> <b>[Step : 1️⃣]"
      ],
      "metadata": {
        "id": "VplNPh9FOJ7q"
      }
    },
    {
      "cell_type": "markdown",
      "source": [
        "#<h3><b><font color='orange'>📲Install Rclone & Setup Libraries 📚"
      ],
      "metadata": {
        "id": "qGea2vSVNT2J"
      }
    },
    {
      "cell_type": "code",
      "execution_count": null,
      "metadata": {
        "cellView": "form",
        "id": "4Ml07FYYDl3R"
      },
      "outputs": [],
      "source": [
        "#@title <b>⬅️Run this cell to Install Rclone📲\n",
        "\n",
        "from sys import exit as end\n",
        "from pathlib import Path\n",
        "from requests import get as get_url\n",
        "from google.colab import output\n",
        "from json import dumps as dump_json\n",
        "\n",
        "current_version = \"v5.1.0\"\n",
        "do_normal_setup = \"1\"\n",
        "\n",
        "# Check for latest version\n",
        "try:\n",
        "    print(\"Connecting to CDN...\")\n",
        "    json_data = get_url(\"https://raw.githubusercontent.com/ItzWarLockOp/Trash/main/mct.json\").json()\n",
        "    output.clear()\n",
        "    print(\"Connected with CDN.\")\n",
        "    if current_version == json_data[\"version\"]:\n",
        "        print(\"Checking current version...\")\n",
        "        print(f'Great Job! You are using the latest version: {json_data[\"version\"]}')\n",
        "    else:\n",
        "        print(\"Checking current version...\")\n",
        "        print(f'Oh-No! You are not using the latest version and missing out on important fixes & features. The latest version is {json_data[\"version\"]}. Please use the latest notebook available here:\\n{json_data[\"notebookLink\"]}')\n",
        "except Exception as error_code:\n",
        "    end(f'Failed to connect with CDN!\\nTraceback:\\n{error_code}')\n",
        "\n",
        "# Save json data locally\n",
        "with open('mct.json', 'w+') as mct_json:\n",
        "    mct_json.write(dump_json(json_data))\n",
        "\n",
        "\n",
        "# User Input\n",
        "INSTALL_RCLONE_FLAVOR = \"\"\n",
        "\n",
        "# Install rclone\n",
        "try:\n",
        "    print(\"Installing rclone...\")\n",
        "    !curl -s https://rclone.org/install.sh | sudo bash {INSTALL_RCLONE_FLAVOR} > /dev/null 2>&1\n",
        "    output.clear()\n",
        "    print(\"Rclone installation completed!\")\n",
        "except Exception as error_code:\n",
        "    print(f'Failed to install rclone!\\nTraceback:\\n{error_code}')\n",
        "\n",
        "if do_normal_setup == '1' and not Path(\"/content/setup.sh\").exists():\n",
        "    try:\n",
        "        print(\"Setting up Libraries...\")\n",
        "        get_url(json_data[\"setupFile\"])\n",
        "        !curl -s {json_data[\"setupFile\"]} | sudo bash {INSTALL_RCLONE_FLAVOR} > /dev/null 2>&1\n",
        "        !curl {json_data[\"setupFile\"]} > \"/content/setup.sh\"\n",
        "        output.clear()\n",
        "        print(\"Setup completed!\")\n",
        "    except ConnectionError:\n",
        "        print('Unable to get setup file!')\n",
        "    except Exception as error_code:\n",
        "        print(f'Setup instructions seem to have mistakes!\\nTraceback:\\n{error_code}')\n",
        "elif do_normal_setup == '1' and Path(\"/content/setup.sh\").exists():\n",
        "    output.clear()\n",
        "    print(\"Setup file exists and is already configured!\")"
      ]
    },
    {
      "cell_type": "markdown",
      "source": [
        "#<h4> <b>[Step : 2️⃣]"
      ],
      "metadata": {
        "id": "v7pd9sJ2OiGE"
      }
    },
    {
      "cell_type": "markdown",
      "source": [
        "#<center><img src=\"https://cdn.thecaduceus.eu.org/MCT/img/rclone_logo.png\" height=\"50\" alt=\"Rclone-Logo\"/></center><center><h3> <font color='lime'><b> Upload [Rclone.Conf] File</b></h3></center>"
      ],
      "metadata": {
        "id": "YGZL3rbQI8JB"
      }
    },
    {
      "cell_type": "code",
      "execution_count": null,
      "metadata": {
        "cellView": "form",
        "id": "R5Yq_Y_i-3It"
      },
      "outputs": [],
      "source": [
        "#@markdown <b>  ⬅️ Run this Cell to Initiate Upload 📲\n",
        "from google.colab import files\n",
        "from sys import exit as end\n",
        "from pathlib import Path, PurePath\n",
        "from IPython.display import clear_output\n",
        "\n",
        "UPLOAD_CONFIG_FILE = True\n",
        "\n",
        "if UPLOAD_CONFIG_FILE:\n",
        "    # Initiate Upload Request\n",
        "    print('Request: Initiate upload -> rclone.conf [file]')\n",
        "    uploaded_files = files.upload()\n",
        "    if len(uploaded_files) == 0:\n",
        "        end('File Error: No file uploaded')\n",
        "    \n",
        "    uploaded_file_name = next(iter(uploaded_files))\n",
        "    if uploaded_file_name != 'rclone.conf':\n",
        "        end('File Error: File is not rclone.conf')\n",
        "\n",
        "    file_content = uploaded_files[uploaded_file_name]\n",
        "    rclone_conf_path = Path(\"/root/.config/rclone/\")\n",
        "    rclone_conf_path.mkdir(parents=True, exist_ok=True)\n",
        "    rclone_conf_file_path = rclone_conf_path / \"rclone.conf\"\n",
        "    with open(rclone_conf_file_path, 'wb') as f:\n",
        "        f.write(file_content)\n",
        "    \n",
        "    print('Rclone.conf uploaded successfully')\n",
        "\n",
        "# Clear output and show last print message\n",
        "clear_output(wait=True)\n",
        "print('Rclone config File uploaded!')"
      ]
    },
    {
      "cell_type": "markdown",
      "source": [
        "#<h4> <b>[Step : 3️⃣]"
      ],
      "metadata": {
        "id": "Ec6qpOv8PELx"
      }
    },
    {
      "cell_type": "markdown",
      "source": [
        "#<center> <h3> <font color='sky blue'> <b>Mount & Unmount Onedrive 📁"
      ],
      "metadata": {
        "id": "afeSFSezHv2w"
      }
    },
    {
      "cell_type": "code",
      "execution_count": null,
      "metadata": {
        "id": "cjQjz1txBCin",
        "cellView": "form"
      },
      "outputs": [],
      "source": [
        "\n",
        "from sys import exit as end\n",
        "from os import makedirs, system\n",
        "from pathlib import Path, PurePath\n",
        "from re import findall, M\n",
        "\n",
        "if not Path(\"/root/.config/rclone/rclone.conf\").exists():\n",
        "    end('Not Found: rclone.conf [file]')\n",
        "\n",
        "content = open(\"/root/.config/rclone/rclone.conf\").read()\n",
        "avCon = findall(r\"^\\[(.+)\\]$\", content, M)\n",
        "\n",
        "print(\"Available Rclone Remotes:\", end=\" \")\n",
        "print(*avCon, sep=\", \")\n",
        "\n",
        "if len(avCon) == 0:\n",
        "    end('No remotes found in rclone.conf [file]')\n",
        "\n",
        "remote = avCon[0]\n",
        "\n",
        "Mount_Point = f\"/content/{remote}\"\n",
        "Cache_dir = \"/content/temp/Rclone\"\n",
        "\n",
        "Action = \"mount\" #@param [\"mount\", \"unmount\"] {type:\"string\"}\n",
        "\n",
        "if Action not in [\"mount\", \"unmount\"]:\n",
        "    end(\"Input Error: Value should be 'mount' or 'unmount'.\")\n",
        "elif Action == \"mount\":\n",
        "    makedirs(Mount_Point, exist_ok=True)\n",
        "    !rclone mount {remote}: {Mount_Point} --user-agent 'Mozilla' --buffer-size 256M --transfers 10 --vfs-cache-mode minimal --vfs-read-chunk-size 500M --vfs-cache-max-size 50G --vfs-cache-max-age 0h0m1s --vfs-cache-poll-interval 0m1s --cache-dir {Cache_dir} --allow-other --daemon\n",
        "    print(f'{remote} mounted: {Mount_Point}') if Path(Mount_Point).exists() else print(f\"Mount Error: Unable to mount {remote} at {Mount_Point}\")\n",
        "elif Action == \"unmount\":\n",
        "    if system(f\"fusermount -uz {Mount_Point}\") == 0:\n",
        "        print(f'{remote} unmounted')\n",
        "    else:\n",
        "        print(f\"Unable to unmount {remote}\")\n",
        "else:\n",
        "    system(f\"fusermount -uz {Mount_Point}\")"
      ]
    },
    {
      "cell_type": "markdown",
      "source": [
        "#<h4> <b>[Step : 4️⃣]"
      ],
      "metadata": {
        "id": "iC-QnQiwPLb9"
      }
    },
    {
      "cell_type": "markdown",
      "source": [
        "#<center> </font> <h3><b> <font color='yellow'> 🖥️Enter Url, Path & New Name📡  </center>"
      ],
      "metadata": {
        "id": "lPsVeH_qGl4N"
      }
    },
    {
      "cell_type": "code",
      "execution_count": null,
      "metadata": {
        "id": "e-CsE6QpIoPv",
        "cellView": "form"
      },
      "outputs": [],
      "source": [
        "#@title <center> <b><h5> • If you want to change your file name then set the [RenameFile] to True✅ • </b></h5></center>\n",
        "#@markdown ------\n",
        "\n",
        "import os\n",
        "import requests\n",
        "from tqdm import tqdm\n",
        "import urllib.parse\n",
        "import math\n",
        "\n",
        "os.environ['COLAB_SKIP_MAGIC'] = '1'\n",
        "\n",
        "# Get user input for the download link and path\n",
        "DownloadLink = \"https://DirectLink.com/File.jpeg\" #@param {type:\"string\"}\n",
        "Path = \"/content/drive/My Drive\" #@param {type:\"string\"}\n",
        "\n",
        "# Extract the filename from the download link\n",
        "filename = DownloadLink.split(\"/\")[-1]\n",
        "\n",
        "# Decode the filename\n",
        "decoded_filename = urllib.parse.unquote(filename)\n",
        "\n",
        "# Find the position of the last dot in the filename\n",
        "last_dot_index = decoded_filename.rfind(\".\")\n",
        "\n",
        "# Extract the name and extension\n",
        "name = decoded_filename[:last_dot_index]\n",
        "extension = decoded_filename[last_dot_index:]\n",
        "\n",
        "# Get user input for the desired name if renaming is selected\n",
        "RenameFile = False #@param {type:\"boolean\"}\n",
        "\n",
        "if RenameFile:\n",
        "    NewName = \"x\" #@param {type:\"string\"}\n",
        "else:\n",
        "    # Remove URL encoding from the name\n",
        "    NewName = urllib.parse.unquote(name)\n",
        "\n",
        "#@markdown ------\n",
        "\n",
        "# Generate the new filename with the original extension\n",
        "new_filename = f\"{NewName}{extension}\"\n",
        "\n",
        "# Download the file and save it to the specified path with the new filename\n",
        "response = requests.get(DownloadLink, stream=True)\n",
        "total_size = int(response.headers.get(\"content-length\", 0))\n",
        "\n",
        "# Convert the total size to a human-readable format\n",
        "size_units = [\"B\", \"KB\", \"MB\", \"GB\", \"TB\"]\n",
        "size_index = int(math.floor(math.log(total_size, 1024)))\n",
        "total_size_hr = f\"{round(total_size / (1024 ** size_index), 2)} {size_units[size_index]}\"\n",
        "\n",
        "# Print the file name, total size, and save path\n",
        "print(\"File Name:\", new_filename)\n",
        "print(\"File Size:\", total_size_hr)\n",
        "print(\"Save Path:\", os.path.join(Path, new_filename))\n",
        "print()\n",
        "\n",
        "# Download the file with progress bar\n",
        "with open(f\"{Path}/{new_filename}\", \"wb\") as file:\n",
        "    progress_bar = tqdm(total=total_size, unit=\"B\", unit_scale=True, ncols=80, bar_format='{l_bar}{bar}| {n_fmt}/{total_fmt}')\n",
        "    for data in response.iter_content(chunk_size=1024):\n",
        "        file.write(data)\n",
        "        progress_bar.update(len(data))\n",
        "    progress_bar.close()\n",
        "\n",
        "# Add an extra line space\n",
        "print(\"\\n\")\n",
        "\n",
        "# Print completion message\n",
        "print(\"📲 File Downloaded Successfully! 🎉\")"
      ]
    }
  ],
  "metadata": {
    "colab": {
      "provenance": [],
      "collapsed_sections": [
        "qGea2vSVNT2J",
        "YGZL3rbQI8JB",
        "afeSFSezHv2w",
        "lPsVeH_qGl4N"
      ],
      "authorship_tag": "ABX9TyMcb+0f68/jjCSU+eBFZ1yg",
      "include_colab_link": true
    },
    "kernelspec": {
      "display_name": "Python 3",
      "name": "python3"
    },
    "language_info": {
      "name": "python"
    }
  },
  "nbformat": 4,
  "nbformat_minor": 0
}